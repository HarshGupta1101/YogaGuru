{
 "cells": [
  {
   "cell_type": "code",
   "execution_count": 1,
   "metadata": {},
   "outputs": [],
   "source": [
    "import numpy as np"
   ]
  },
  {
   "cell_type": "code",
   "execution_count": 181,
   "metadata": {},
   "outputs": [],
   "source": [
    "import cv2\n",
    "import mediapipe as mp\n",
    "import time\n",
    "mpDraw = mp.solutions.drawing_utils\n",
    "mpPose = mp.solutions.pose\n",
    "pose = mpPose.Pose()\n",
    "cap = cv2.VideoCapture('C:/Users/mi/YogaGuru/How to do Trikonasana - Triangle Pose.mp4')\n",
    "count=0\n",
    "landmark_frames_data=[]\n",
    "while count<300:\n",
    "    success, img = cap.read()\n",
    "    h,w,c=img.shape \n",
    "    imgRGB = cv2.cvtColor(img, cv2.COLOR_BGR2RGB)\n",
    "    results = pose.process(imgRGB)\n",
    "    landmark_frames_data.append({count:results.pose_landmarks})\n",
    "    count+=1\n"
   ]
  },
  {
   "cell_type": "code",
   "execution_count": 183,
   "metadata": {},
   "outputs": [
    {
     "data": {
      "text/plain": [
       "[x: 0.6347061\n",
       "y: 0.48814774\n",
       "z: -0.34277198\n",
       "visibility: 0.9999993\n",
       ", x: 0.64286494\n",
       "y: 0.5027776\n",
       "z: -0.34059626\n",
       "visibility: 0.9999955\n",
       ", x: 0.64279103\n",
       "y: 0.50848097\n",
       "z: -0.3406197\n",
       "visibility: 0.99999774\n",
       ", x: 0.64256597\n",
       "y: 0.51495653\n",
       "z: -0.34055722\n",
       "visibility: 0.99999386\n",
       ", x: 0.64298636\n",
       "y: 0.49401492\n",
       "z: -0.3328755\n",
       "visibility: 0.99999636\n",
       ", x: 0.64304906\n",
       "y: 0.49272537\n",
       "z: -0.3328504\n",
       "visibility: 0.99999726\n",
       ", x: 0.64317334\n",
       "y: 0.49147737\n",
       "z: -0.3327758\n",
       "visibility: 0.9999944\n",
       ", x: 0.6356797\n",
       "y: 0.5428171\n",
       "z: -0.29000598\n",
       "visibility: 0.999996\n",
       ", x: 0.636745\n",
       "y: 0.51160705\n",
       "z: -0.25253534\n",
       "visibility: 0.9999972\n",
       ", x: 0.6235042\n",
       "y: 0.5016697\n",
       "z: -0.32202002\n",
       "visibility: 0.99999636\n",
       ", x: 0.62422955\n",
       "y: 0.49025175\n",
       "z: -0.31155926\n",
       "visibility: 0.99999756\n",
       ", x: 0.5933317\n",
       "y: 0.62327594\n",
       "z: -0.20819151\n",
       "visibility: 0.9999535\n",
       ", x: 0.5914901\n",
       "y: 0.4553261\n",
       "z: -0.24050255\n",
       "visibility: 0.99999875\n",
       ", x: 0.61004335\n",
       "y: 0.7597757\n",
       "z: -0.24778421\n",
       "visibility: 0.9946486\n",
       ", x: 0.59889567\n",
       "y: 0.31030452\n",
       "z: -0.28333607\n",
       "visibility: 0.99967545\n",
       ", x: 0.6291889\n",
       "y: 0.8726791\n",
       "z: -0.34149867\n",
       "visibility: 0.9655876\n",
       ", x: 0.6095568\n",
       "y: 0.18555836\n",
       "z: -0.37581384\n",
       "visibility: 0.99748445\n",
       ", x: 0.6380039\n",
       "y: 0.8942703\n",
       "z: -0.34338242\n",
       "visibility: 0.89354074\n",
       ", x: 0.61400217\n",
       "y: 0.1473701\n",
       "z: -0.3993042\n",
       "visibility: 0.9908102\n",
       ", x: 0.63954437\n",
       "y: 0.90097594\n",
       "z: -0.38054085\n",
       "visibility: 0.8924929\n",
       ", x: 0.61889416\n",
       "y: 0.14280277\n",
       "z: -0.42209736\n",
       "visibility: 0.9926727\n",
       ", x: 0.63398445\n",
       "y: 0.8949183\n",
       "z: -0.36033002\n",
       "visibility: 0.90165246\n",
       ", x: 0.61752236\n",
       "y: 0.15700218\n",
       "z: -0.39269698\n",
       "visibility: 0.99293417\n",
       ", x: 0.48798075\n",
       "y: 0.6096654\n",
       "z: 0.038885113\n",
       "visibility: 0.9994783\n",
       ", x: 0.45146805\n",
       "y: 0.56038624\n",
       "z: -0.03927071\n",
       "visibility: 0.9999792\n",
       ", x: 0.5535216\n",
       "y: 0.7603623\n",
       "z: 0.033583444\n",
       "visibility: 0.94524264\n",
       ", x: 0.38457125\n",
       "y: 0.72283375\n",
       "z: -0.054796077\n",
       "visibility: 0.9990028\n",
       ", x: 0.6297845\n",
       "y: 0.8955068\n",
       "z: 0.10250391\n",
       "visibility: 0.8870955\n",
       ", x: 0.33013588\n",
       "y: 0.8951242\n",
       "z: 0.04839056\n",
       "visibility: 0.9932174\n",
       ", x: 0.628359\n",
       "y: 0.9310564\n",
       "z: 0.10512779\n",
       "visibility: 0.94289315\n",
       ", x: 0.31711426\n",
       "y: 0.9202618\n",
       "z: 0.053525817\n",
       "visibility: 0.9812307\n",
       ", x: 0.68312335\n",
       "y: 0.9279458\n",
       "z: 0.04472307\n",
       "visibility: 0.9505439\n",
       ", x: 0.3450003\n",
       "y: 0.95843047\n",
       "z: -0.052609175\n",
       "visibility: 0.9889595\n",
       "]"
      ]
     },
     "execution_count": 183,
     "metadata": {},
     "output_type": "execute_result"
    }
   ],
   "source": [
    " results.pose_landmarks.landmark"
   ]
  },
  {
   "cell_type": "code",
   "execution_count": 184,
   "metadata": {},
   "outputs": [
    {
     "name": "stdout",
     "output_type": "stream",
     "text": [
      "['__add__', '__class__', '__contains__', '__delattr__', '__dir__', '__doc__', '__eq__', '__format__', '__ge__', '__getattribute__', '__getitem__', '__getnewargs__', '__gt__', '__hash__', '__init__', '__init_subclass__', '__iter__', '__le__', '__len__', '__lt__', '__module__', '__mul__', '__ne__', '__new__', '__reduce__', '__reduce_ex__', '__repr__', '__rmul__', '__setattr__', '__sizeof__', '__slots__', '__str__', '__subclasshook__', '_asdict', '_field_defaults', '_fields', '_fields_defaults', '_make', '_replace', 'count', 'index', 'pose_landmarks', 'pose_world_landmarks']\n"
     ]
    }
   ],
   "source": [
    "print(dir(results))"
   ]
  },
  {
   "cell_type": "code",
   "execution_count": 185,
   "metadata": {},
   "outputs": [
    {
     "name": "stdout",
     "output_type": "stream",
     "text": [
      "350.3028653420706\n"
     ]
    }
   ],
   "source": [
    "import math\n",
    " \n",
    "def getAngle(a, b, c):\n",
    "    ang = math.degrees(math.atan2(c[1]-b[1], c[0]-b[0]) - math.atan2(a[1]-b[1], a[0]-b[0]))\n",
    "    return ang + 360 if ang < 0 else ang\n",
    " \n",
    "print(getAngle([0.23182656, 0.86334693, 0.00919855, 0.98291081], [0.2782656, 0.668, 0.00919855, 0.98291081], (0, 5)))"
   ]
  },
  {
   "cell_type": "code",
   "execution_count": 186,
   "metadata": {},
   "outputs": [],
   "source": [
    "import numpy as np"
   ]
  },
  {
   "cell_type": "code",
   "execution_count": 187,
   "metadata": {},
   "outputs": [
    {
     "data": {
      "text/plain": [
       "[x: 0.6347061\n",
       " y: 0.48814774\n",
       " z: -0.34277198\n",
       " visibility: 0.9999993,\n",
       " x: 0.64286494\n",
       " y: 0.5027776\n",
       " z: -0.34059626\n",
       " visibility: 0.9999955,\n",
       " x: 0.64279103\n",
       " y: 0.50848097\n",
       " z: -0.3406197\n",
       " visibility: 0.99999774]"
      ]
     },
     "execution_count": 187,
     "metadata": {},
     "output_type": "execute_result"
    }
   ],
   "source": [
    "results.pose_landmarks.landmark[0:3]"
   ]
  },
  {
   "cell_type": "code",
   "execution_count": 188,
   "metadata": {},
   "outputs": [],
   "source": [
    "test=[]\n",
    "for res in results.pose_landmarks.landmark:\n",
    "        test.append(np.array([res.x,res.y,res.z,res.visibility]))"
   ]
  },
  {
   "cell_type": "code",
   "execution_count": 189,
   "metadata": {},
   "outputs": [
    {
     "data": {
      "text/plain": [
       "[array([ 0.63470608,  0.48814774, -0.34277198,  0.99999928]),\n",
       " array([ 0.64286494,  0.50277758, -0.34059626,  0.99999553]),\n",
       " array([ 0.64279103,  0.50848097, -0.34061971,  0.99999774]),\n",
       " array([ 0.64256597,  0.51495653, -0.34055722,  0.99999386]),\n",
       " array([ 0.64298636,  0.49401492, -0.33287549,  0.99999636]),\n",
       " array([ 0.64304906,  0.49272537, -0.3328504 ,  0.99999726]),\n",
       " array([ 0.64317334,  0.49147737, -0.3327758 ,  0.9999944 ]),\n",
       " array([ 0.63567972,  0.54281712, -0.29000598,  0.99999601]),\n",
       " array([ 0.63674498,  0.51160705, -0.25253534,  0.9999972 ]),\n",
       " array([ 0.62350422,  0.5016697 , -0.32202002,  0.99999636]),\n",
       " array([ 0.62422955,  0.49025175, -0.31155926,  0.99999756]),\n",
       " array([ 0.59333169,  0.62327594, -0.20819151,  0.99995351]),\n",
       " array([ 0.59149009,  0.45532611, -0.24050255,  0.99999875]),\n",
       " array([ 0.61004335,  0.7597757 , -0.24778421,  0.99464858]),\n",
       " array([ 0.59889567,  0.31030452, -0.28333607,  0.99967545]),\n",
       " array([ 0.6291889 ,  0.87267911, -0.34149867,  0.96558762]),\n",
       " array([ 0.60955679,  0.18555836, -0.37581384,  0.99748445]),\n",
       " array([ 0.63800389,  0.8942703 , -0.34338242,  0.89354074]),\n",
       " array([ 0.61400217,  0.1473701 , -0.39930421,  0.99081022]),\n",
       " array([ 0.63954437,  0.90097594, -0.38054085,  0.89249289]),\n",
       " array([ 0.61889416,  0.14280277, -0.42209736,  0.99267268]),\n",
       " array([ 0.63398445,  0.89491832, -0.36033002,  0.90165246]),\n",
       " array([ 0.61752236,  0.15700218, -0.39269698,  0.99293417]),\n",
       " array([0.48798075, 0.60966539, 0.03888511, 0.99947828]),\n",
       " array([ 0.45146805,  0.56038624, -0.03927071,  0.9999792 ]),\n",
       " array([0.55352157, 0.76036233, 0.03358344, 0.94524264]),\n",
       " array([ 0.38457125,  0.72283375, -0.05479608,  0.99900281]),\n",
       " array([0.62978452, 0.8955068 , 0.10250391, 0.88709551]),\n",
       " array([0.33013588, 0.8951242 , 0.04839056, 0.99321741]),\n",
       " array([0.62835902, 0.93105638, 0.10512779, 0.94289315]),\n",
       " array([0.31711426, 0.9202618 , 0.05352582, 0.98123068]),\n",
       " array([0.68312335, 0.92794579, 0.04472307, 0.95054388]),\n",
       " array([ 0.3450003 ,  0.95843047, -0.05260918,  0.98895949])]"
      ]
     },
     "execution_count": 189,
     "metadata": {},
     "output_type": "execute_result"
    }
   ],
   "source": [
    "test"
   ]
  },
  {
   "cell_type": "code",
   "execution_count": 190,
   "metadata": {},
   "outputs": [],
   "source": [
    "test1=[]\n",
    "for res in test:\n",
    "    test1.append([res[0]*w,res[1]*h,res[2],res[3]])"
   ]
  },
  {
   "cell_type": "code",
   "execution_count": 191,
   "metadata": {},
   "outputs": [
    {
     "data": {
      "text/plain": [
       "(720, 1280, 3)"
      ]
     },
     "execution_count": 191,
     "metadata": {},
     "output_type": "execute_result"
    }
   ],
   "source": [
    "h,w,c"
   ]
  },
  {
   "cell_type": "code",
   "execution_count": 192,
   "metadata": {},
   "outputs": [
    {
     "data": {
      "text/plain": [
       "[[812.4237823486328,\n",
       "  351.46636962890625,\n",
       "  -0.342771977186203,\n",
       "  0.9999992847442627],\n",
       " [822.8671264648438,\n",
       "  361.9998550415039,\n",
       "  -0.3405962586402893,\n",
       "  0.9999955296516418],\n",
       " [822.7725219726562,\n",
       "  366.1062955856323,\n",
       "  -0.3406197130680084,\n",
       "  0.9999977350234985],\n",
       " [822.4844360351562,\n",
       "  370.7687044143677,\n",
       "  -0.3405572175979614,\n",
       "  0.9999938607215881],\n",
       " [823.0225372314453,\n",
       "  355.69074153900146,\n",
       "  -0.33287549018859863,\n",
       "  0.9999963641166687],\n",
       " [823.1027984619141,\n",
       "  354.76226806640625,\n",
       "  -0.3328503966331482,\n",
       "  0.9999972581863403],\n",
       " [823.2618713378906,\n",
       "  353.8637065887451,\n",
       "  -0.3327758014202118,\n",
       "  0.9999943971633911],\n",
       " [813.6700439453125, 390.8283233642578, -0.29000598192214966, 0.9999960064888],\n",
       " [815.0335693359375,\n",
       "  368.35707664489746,\n",
       "  -0.252535343170166,\n",
       "  0.9999971985816956],\n",
       " [798.0854034423828, 361.202187538147, -0.322020024061203, 0.9999963641166687],\n",
       " [799.0138244628906,\n",
       "  352.98125982284546,\n",
       "  -0.31155925989151,\n",
       "  0.9999975562095642],\n",
       " [759.4645690917969,\n",
       "  448.7586736679077,\n",
       "  -0.20819151401519775,\n",
       "  0.9999535083770752],\n",
       " [757.1073150634766,\n",
       "  327.83479928970337,\n",
       "  -0.24050255119800568,\n",
       "  0.9999987483024597],\n",
       " [780.8554840087891,\n",
       "  547.0385026931763,\n",
       "  -0.24778421223163605,\n",
       "  0.9946485757827759],\n",
       " [766.5864562988281,\n",
       "  223.41925621032715,\n",
       "  -0.2833360731601715,\n",
       "  0.999675452709198],\n",
       " [805.3617858886719,\n",
       "  628.3289623260498,\n",
       "  -0.3414986729621887,\n",
       "  0.9655876159667969],\n",
       " [780.2326965332031,\n",
       "  133.60202193260193,\n",
       "  -0.3758138418197632,\n",
       "  0.9974844455718994],\n",
       " [816.6449737548828,\n",
       "  643.8746166229248,\n",
       "  -0.34338241815567017,\n",
       "  0.8935407400131226],\n",
       " [785.9227752685547,\n",
       "  106.10647201538086,\n",
       "  -0.39930421113967896,\n",
       "  0.990810215473175],\n",
       " [818.6167907714844,\n",
       "  648.7026786804199,\n",
       "  -0.3805408477783203,\n",
       "  0.8924928903579712],\n",
       " [792.1845245361328,\n",
       "  102.81799793243408,\n",
       "  -0.4220973551273346,\n",
       "  0.9926726818084717],\n",
       " [811.5000915527344,\n",
       "  644.3411922454834,\n",
       "  -0.3603300154209137,\n",
       "  0.901652455329895],\n",
       " [790.4286193847656,\n",
       "  113.04157018661499,\n",
       "  -0.39269697666168213,\n",
       "  0.9929341673851013],\n",
       " [624.615364074707, 438.9590835571289, 0.03888511285185814, 0.999478280544281],\n",
       " [577.8791046142578,\n",
       "  403.47809314727783,\n",
       "  -0.039270710200071335,\n",
       "  0.9999791979789734],\n",
       " [708.5076141357422,\n",
       "  547.4608755111694,\n",
       "  0.033583443611860275,\n",
       "  0.9452426433563232],\n",
       " [492.25120544433594,\n",
       "  520.4403018951416,\n",
       "  -0.05479607731103897,\n",
       "  0.9990028142929077],\n",
       " [806.1241912841797,\n",
       "  644.764895439148,\n",
       "  0.10250391066074371,\n",
       "  0.8870955109596252],\n",
       " [422.5739288330078,\n",
       "  644.4894218444824,\n",
       "  0.04839055985212326,\n",
       "  0.993217408657074],\n",
       " [804.2995452880859,\n",
       "  670.3605937957764,\n",
       "  0.10512778908014297,\n",
       "  0.9428931474685669],\n",
       " [405.90625762939453,\n",
       "  662.5884962081909,\n",
       "  0.05352581664919853,\n",
       "  0.9812306761741638],\n",
       " [874.3978881835938,\n",
       "  668.1209707260132,\n",
       "  0.04472307115793228,\n",
       "  0.9505438804626465],\n",
       " [441.60037994384766,\n",
       "  690.0699377059937,\n",
       "  -0.05260917544364929,\n",
       "  0.9889594912528992]]"
      ]
     },
     "execution_count": 192,
     "metadata": {},
     "output_type": "execute_result"
    }
   ],
   "source": [
    "test1"
   ]
  },
  {
   "cell_type": "code",
   "execution_count": 193,
   "metadata": {},
   "outputs": [
    {
     "data": {
      "text/plain": [
       "209.8902613687352"
      ]
     },
     "execution_count": 193,
     "metadata": {},
     "output_type": "execute_result"
    }
   ],
   "source": [
    "getAngle(test[0],test[1],test[2])    "
   ]
  },
  {
   "cell_type": "code",
   "execution_count": 194,
   "metadata": {},
   "outputs": [
    {
     "data": {
      "text/plain": [
       "226.07354211635342"
      ]
     },
     "execution_count": 194,
     "metadata": {},
     "output_type": "execute_result"
    }
   ],
   "source": [
    "getAngle(test1[0],test1[1],test1[2])"
   ]
  },
  {
   "cell_type": "code",
   "execution_count": 195,
   "metadata": {},
   "outputs": [],
   "source": [
    "right_elbow_angle=getAngle(test1[16],test1[14],test1[12])\n",
    "right_shoulder_angle=getAngle(test1[14],test1[12],test1[24])\n",
    "left_shoulder_angle=getAngle(test1[13],test1[11],test1[23])\n",
    "left_elbow_angle=getAngle(test1[15],test1[13],test1[11])\n"
   ]
  },
  {
   "cell_type": "code",
   "execution_count": 196,
   "metadata": {},
   "outputs": [],
   "source": [
    "right_hip_angle=getAngle(test1[12],test1[24],test1[26])\n",
    "left_hip_angle=getAngle(test1[11],test1[23],test1[25])\n",
    "right_knee_angle=getAngle(test1[24],test1[26],test1[28])\n",
    "left_knee_angle=getAngle(test1[23],test1[25],test1[27])\n"
   ]
  },
  {
   "cell_type": "code",
   "execution_count": 197,
   "metadata": {},
   "outputs": [],
   "source": [
    "right_ankle_angle=getAngle(test1[26],test1[28],test1[32])\n",
    "left_ankle_angle=getAngle(test1[25],test1[27],test1[31])\n",
    "right_shoulder_wrt_nose_angle=getAngle(test1[0],test1[12],test1[11])\n",
    "left_shoulder_wrt_nose_angle=getAngle(test1[0],test1[11],test1[12])\n"
   ]
  },
  {
   "cell_type": "code",
   "execution_count": 46,
   "metadata": {},
   "outputs": [],
   "source": [
    "angles=[right_elbow_angle,\n",
    "right_shoulder_angle,\n",
    "left_shoulder_angle,\n",
    "left_elbow_angle,\n",
    "right_hip_angle,\n",
    "left_hip_angle,\n",
    "right_knee_angle,\n",
    "left_knee_angle,\n",
    "right_ankle_angle,\n",
    "left_ankle_angle,\n",
    "right_shoulder_wrt_nose_angle,\n",
    "left_shoulder_wrt_nose_angle,\n",
    "'MountainPose',\n",
    "100]"
   ]
  },
  {
   "cell_type": "code",
   "execution_count": 204,
   "metadata": {},
   "outputs": [],
   "source": [
    "angles1={'right_elbow_angle':right_elbow_angle,\n",
    "'right_shoulder_angle':right_shoulder_angle,\n",
    "'left_shoulder_angle':left_shoulder_angle,\n",
    "'left_elbow_angle':left_elbow_angle,\n",
    "'right_hip_angle':right_hip_angle,\n",
    "'left_hip_angle':left_hip_angle,\n",
    "'right_knee_angle':right_knee_angle,\n",
    "'left_knee_angle':left_knee_angle,\n",
    "'right_ankle_angle':right_ankle_angle,\n",
    "'left_ankle_angle':left_ankle_angle,\n",
    "'right_shoulder_wrt_nose_angle':right_shoulder_wrt_nose_angle,\n",
    "'left_shoulder_wrt_nose_angle':left_shoulder_wrt_nose_angle,\n",
    "'PoseName':'TrianglePose',\n",
    "'PoseAccurracy':100}"
   ]
  },
  {
   "cell_type": "raw",
   "metadata": {},
   "source": [
    "angles1"
   ]
  },
  {
   "cell_type": "code",
   "execution_count": 205,
   "metadata": {},
   "outputs": [],
   "source": [
    "PoseName='MountainPose'\n",
    "PoseAccurracy=100"
   ]
  },
  {
   "cell_type": "code",
   "execution_count": 206,
   "metadata": {},
   "outputs": [],
   "source": [
    "import pandas as pd\n",
    "import numpy as np"
   ]
  },
  {
   "cell_type": "code",
   "execution_count": 200,
   "metadata": {},
   "outputs": [],
   "source": [
    "column_list=['right_elbow_angle',\n",
    "'right_shoulder_angle',\n",
    "'left_shoulder_angle',\n",
    "'left_elbow_angle',\n",
    "'right_hip_angle',\n",
    "'left_hip_angle',\n",
    "'right_knee_angle',\n",
    "'left_knee_angle',\n",
    "'right_ankle_angle',\n",
    "'left_ankle_angle',\n",
    "'right_shoulder_wrt_nose_angle',\n",
    "'left_shoulder_wrt_nose_angle',\n",
    "'PoseName',\n",
    "'PoseAccurracy']"
   ]
  },
  {
   "cell_type": "code",
   "execution_count": 207,
   "metadata": {},
   "outputs": [],
   "source": [
    "data=pd.DataFrame(columns=column_list)"
   ]
  },
  {
   "cell_type": "code",
   "execution_count": 208,
   "metadata": {},
   "outputs": [
    {
     "ename": "NameError",
     "evalue": "name 'angles' is not defined",
     "output_type": "error",
     "traceback": [
      "\u001b[1;31m---------------------------------------------------------------------------\u001b[0m",
      "\u001b[1;31mNameError\u001b[0m                                 Traceback (most recent call last)",
      "\u001b[1;32m<ipython-input-208-52ffaf17fb50>\u001b[0m in \u001b[0;36m<module>\u001b[1;34m\u001b[0m\n\u001b[1;32m----> 1\u001b[1;33m \u001b[0mdata\u001b[0m\u001b[1;33m=\u001b[0m\u001b[0mdata\u001b[0m\u001b[1;33m.\u001b[0m\u001b[0mappend\u001b[0m\u001b[1;33m(\u001b[0m\u001b[0mangles\u001b[0m\u001b[1;33m,\u001b[0m\u001b[0mignore_index\u001b[0m\u001b[1;33m=\u001b[0m\u001b[1;32mTrue\u001b[0m\u001b[1;33m)\u001b[0m\u001b[1;33m\u001b[0m\u001b[1;33m\u001b[0m\u001b[0m\n\u001b[0m",
      "\u001b[1;31mNameError\u001b[0m: name 'angles' is not defined"
     ]
    }
   ],
   "source": [
    "data=data.append(angles,ignore_index=True)"
   ]
  },
  {
   "cell_type": "code",
   "execution_count": 209,
   "metadata": {},
   "outputs": [],
   "source": [
    "data=data.append(angles1,ignore_index=True)"
   ]
  },
  {
   "cell_type": "code",
   "execution_count": 210,
   "metadata": {},
   "outputs": [
    {
     "data": {
      "text/html": [
       "<div>\n",
       "<style scoped>\n",
       "    .dataframe tbody tr th:only-of-type {\n",
       "        vertical-align: middle;\n",
       "    }\n",
       "\n",
       "    .dataframe tbody tr th {\n",
       "        vertical-align: top;\n",
       "    }\n",
       "\n",
       "    .dataframe thead th {\n",
       "        text-align: right;\n",
       "    }\n",
       "</style>\n",
       "<table border=\"1\" class=\"dataframe\">\n",
       "  <thead>\n",
       "    <tr style=\"text-align: right;\">\n",
       "      <th></th>\n",
       "      <th>right_elbow_angle</th>\n",
       "      <th>right_shoulder_angle</th>\n",
       "      <th>left_shoulder_angle</th>\n",
       "      <th>left_elbow_angle</th>\n",
       "      <th>right_hip_angle</th>\n",
       "      <th>left_hip_angle</th>\n",
       "      <th>right_knee_angle</th>\n",
       "      <th>left_knee_angle</th>\n",
       "      <th>right_ankle_angle</th>\n",
       "      <th>left_ankle_angle</th>\n",
       "      <th>right_shoulder_wrt_nose_angle</th>\n",
       "      <th>left_shoulder_wrt_nose_angle</th>\n",
       "      <th>PoseName</th>\n",
       "      <th>PoseAccurracy</th>\n",
       "    </tr>\n",
       "  </thead>\n",
       "  <tbody>\n",
       "    <tr>\n",
       "      <th>0</th>\n",
       "      <td>176.548181</td>\n",
       "      <td>241.930561</td>\n",
       "      <td>106.435519</td>\n",
       "      <td>184.497169</td>\n",
       "      <td>149.089999</td>\n",
       "      <td>48.132826</td>\n",
       "      <td>173.114715</td>\n",
       "      <td>172.61888</td>\n",
       "      <td>128.020588</td>\n",
       "      <td>153.977424</td>\n",
       "      <td>65.750732</td>\n",
       "      <td>330.322414</td>\n",
       "      <td>TrianglePose</td>\n",
       "      <td>100</td>\n",
       "    </tr>\n",
       "  </tbody>\n",
       "</table>\n",
       "</div>"
      ],
      "text/plain": [
       "   right_elbow_angle  right_shoulder_angle  left_shoulder_angle  \\\n",
       "0         176.548181            241.930561           106.435519   \n",
       "\n",
       "   left_elbow_angle  right_hip_angle  left_hip_angle  right_knee_angle  \\\n",
       "0        184.497169       149.089999       48.132826        173.114715   \n",
       "\n",
       "   left_knee_angle  right_ankle_angle  left_ankle_angle  \\\n",
       "0        172.61888         128.020588        153.977424   \n",
       "\n",
       "   right_shoulder_wrt_nose_angle  left_shoulder_wrt_nose_angle      PoseName  \\\n",
       "0                      65.750732                    330.322414  TrianglePose   \n",
       "\n",
       "  PoseAccurracy  \n",
       "0           100  "
      ]
     },
     "execution_count": 210,
     "metadata": {},
     "output_type": "execute_result"
    }
   ],
   "source": [
    "data"
   ]
  },
  {
   "cell_type": "code",
   "execution_count": 22,
   "metadata": {},
   "outputs": [
    {
     "ename": "NameError",
     "evalue": "name 'data' is not defined",
     "output_type": "error",
     "traceback": [
      "\u001b[1;31m---------------------------------------------------------------------------\u001b[0m",
      "\u001b[1;31mNameError\u001b[0m                                 Traceback (most recent call last)",
      "\u001b[1;32m<ipython-input-22-bd48bb002e74>\u001b[0m in \u001b[0;36m<module>\u001b[1;34m\u001b[0m\n\u001b[1;32m----> 1\u001b[1;33m \u001b[0mlist\u001b[0m\u001b[1;33m(\u001b[0m\u001b[0mdata\u001b[0m\u001b[1;33m.\u001b[0m\u001b[0mloc\u001b[0m\u001b[1;33m[\u001b[0m\u001b[1;36m1\u001b[0m\u001b[1;33m,\u001b[0m\u001b[1;33m:\u001b[0m\u001b[1;33m]\u001b[0m\u001b[1;33m)\u001b[0m\u001b[1;33m[\u001b[0m\u001b[1;33m:\u001b[0m\u001b[1;33m-\u001b[0m\u001b[1;36m2\u001b[0m\u001b[1;33m]\u001b[0m\u001b[1;33m\u001b[0m\u001b[1;33m\u001b[0m\u001b[0m\n\u001b[0m",
      "\u001b[1;31mNameError\u001b[0m: name 'data' is not defined"
     ]
    }
   ],
   "source": [
    "list(data.loc[1,:])[:-2]"
   ]
  },
  {
   "cell_type": "code",
   "execution_count": null,
   "metadata": {},
   "outputs": [],
   "source": [
    "def get_error(ideal,practice):\n",
    "        temp=[(abs(ideal[i]-practice[i])/ideal[i]) for i in range(12)]\n",
    "       \n",
    "        return 100-(sum(temp)*100/12) \n",
    "        "
   ]
  },
  {
   "cell_type": "code",
   "execution_count": null,
   "metadata": {},
   "outputs": [],
   "source": [
    "get_error(list(data.loc[0,:])[:-2],list(data.loc[1,:])[:-2])"
   ]
  },
  {
   "cell_type": "code",
   "execution_count": null,
   "metadata": {},
   "outputs": [],
   "source": [
    "data.iloc[1,13]=get_error(list(data.loc[0,:])[:-2],list(data.loc[1,:])[:-2])\n",
    "data.iloc[2,13]=get_error(list(data.loc[0,:])[:-2],list(data.loc[2,:])[:-2])\n",
    "data.iloc[3,13]=get_error(list(data.loc[0,:])[:-2],list(data.loc[3,:])[:-2])\n"
   ]
  },
  {
   "cell_type": "code",
   "execution_count": 23,
   "metadata": {},
   "outputs": [
    {
     "ename": "NameError",
     "evalue": "name 'get_error' is not defined",
     "output_type": "error",
     "traceback": [
      "\u001b[1;31m---------------------------------------------------------------------------\u001b[0m",
      "\u001b[1;31mNameError\u001b[0m                                 Traceback (most recent call last)",
      "\u001b[1;32m<ipython-input-23-9e30b1ca420e>\u001b[0m in \u001b[0;36m<module>\u001b[1;34m\u001b[0m\n\u001b[1;32m----> 1\u001b[1;33m \u001b[0mget_error\u001b[0m\u001b[1;33m(\u001b[0m\u001b[0mlist\u001b[0m\u001b[1;33m(\u001b[0m\u001b[0mdata\u001b[0m\u001b[1;33m.\u001b[0m\u001b[0mloc\u001b[0m\u001b[1;33m[\u001b[0m\u001b[1;36m0\u001b[0m\u001b[1;33m,\u001b[0m\u001b[1;33m:\u001b[0m\u001b[1;33m]\u001b[0m\u001b[1;33m)\u001b[0m\u001b[1;33m[\u001b[0m\u001b[1;33m:\u001b[0m\u001b[1;33m-\u001b[0m\u001b[1;36m2\u001b[0m\u001b[1;33m]\u001b[0m\u001b[1;33m,\u001b[0m\u001b[0mlist\u001b[0m\u001b[1;33m(\u001b[0m\u001b[0mdata\u001b[0m\u001b[1;33m.\u001b[0m\u001b[0mloc\u001b[0m\u001b[1;33m[\u001b[0m\u001b[1;36m3\u001b[0m\u001b[1;33m,\u001b[0m\u001b[1;33m:\u001b[0m\u001b[1;33m]\u001b[0m\u001b[1;33m)\u001b[0m\u001b[1;33m[\u001b[0m\u001b[1;33m:\u001b[0m\u001b[1;33m-\u001b[0m\u001b[1;36m2\u001b[0m\u001b[1;33m]\u001b[0m\u001b[1;33m)\u001b[0m\u001b[1;33m\u001b[0m\u001b[1;33m\u001b[0m\u001b[0m\n\u001b[0m",
      "\u001b[1;31mNameError\u001b[0m: name 'get_error' is not defined"
     ]
    }
   ],
   "source": [
    "get_error(list(data.loc[0,:])[:-2],list(data.loc[3,:])[:-2])"
   ]
  },
  {
   "cell_type": "code",
   "execution_count": 70,
   "metadata": {},
   "outputs": [
    {
     "data": {
      "text/plain": [
       "array([ 0.59439504,  0.54103488, -0.1732163 ,  0.9998374 ])"
      ]
     },
     "execution_count": 70,
     "metadata": {},
     "output_type": "execute_result"
    }
   ],
   "source": [
    "test[11]"
   ]
  },
  {
   "cell_type": "code",
   "execution_count": 71,
   "metadata": {},
   "outputs": [
    {
     "data": {
      "text/plain": [
       "array([ 0.57379436,  0.37996355, -0.1076446 ,  0.99999213])"
      ]
     },
     "execution_count": 71,
     "metadata": {},
     "output_type": "execute_result"
    }
   ],
   "source": [
    "test[12]"
   ]
  },
  {
   "cell_type": "markdown",
   "metadata": {},
   "source": [
    "# Get data to dataframe"
   ]
  },
  {
   "cell_type": "code",
   "execution_count": 1,
   "metadata": {},
   "outputs": [],
   "source": [
    "import math,numpy\n",
    " \n",
    "def getAngle(a, b, c):\n",
    "    ang = math.degrees(math.atan2(c[1]-b[1], c[0]-b[0]) - math.atan2(a[1]-b[1], a[0]-b[0]))\n",
    "    return ang + 360 if ang < 0 else ang"
   ]
  },
  {
   "cell_type": "code",
   "execution_count": 4,
   "metadata": {},
   "outputs": [
    {
     "name": "stdout",
     "output_type": "stream",
     "text": [
      "Wall time: 1.55 s\n"
     ]
    }
   ],
   "source": [
    "%%time\n",
    "import cv2\n",
    "import mediapipe as mp\n",
    "import time\n",
    "mpDraw = mp.solutions.drawing_utils\n",
    "mpPose = mp.solutions.pose\n",
    "pose = mpPose.Pose()\n",
    "#Enter your video location to collect the landmarks\n",
    "cap = cv2.VideoCapture('C:/Users/mi/YogaGuru/Tree/10.jpg')\n",
    "landmark_frames_data=[]\n",
    "while True:\n",
    "    success, img = cap.read()\n",
    "    if success==True:\n",
    "        h,w,c=img.shape \n",
    "        imgRGB = cv2.cvtColor(img, cv2.COLOR_BGR2RGB)\n",
    "        results = pose.process(imgRGB)\n",
    "        landmark_frames_data.append([results.pose_landmarks])\n",
    "    else:\n",
    "        break\n",
    "cap.release() "
   ]
  },
  {
   "cell_type": "code",
   "execution_count": 10,
   "metadata": {},
   "outputs": [
    {
     "data": {
      "text/plain": [
       "[[landmark {\n",
       "    x: 0.6072563\n",
       "    y: 0.34515396\n",
       "    z: -0.68290424\n",
       "    visibility: 0.99979895\n",
       "  }\n",
       "  landmark {\n",
       "    x: 0.6273069\n",
       "    y: 0.33501476\n",
       "    z: -0.6248688\n",
       "    visibility: 0.99980336\n",
       "  }\n",
       "  landmark {\n",
       "    x: 0.6411987\n",
       "    y: 0.33513355\n",
       "    z: -0.6251361\n",
       "    visibility: 0.99963474\n",
       "  }\n",
       "  landmark {\n",
       "    x: 0.65492326\n",
       "    y: 0.33553743\n",
       "    z: -0.62497413\n",
       "    visibility: 0.99982053\n",
       "  }\n",
       "  landmark {\n",
       "    x: 0.59299463\n",
       "    y: 0.3351794\n",
       "    z: -0.6050332\n",
       "    visibility: 0.9998273\n",
       "  }\n",
       "  landmark {\n",
       "    x: 0.58190167\n",
       "    y: 0.3352522\n",
       "    z: -0.60541743\n",
       "    visibility: 0.9997092\n",
       "  }\n",
       "  landmark {\n",
       "    x: 0.57133144\n",
       "    y: 0.33527526\n",
       "    z: -0.6056283\n",
       "    visibility: 0.9998683\n",
       "  }\n",
       "  landmark {\n",
       "    x: 0.67996687\n",
       "    y: 0.34252626\n",
       "    z: -0.3075774\n",
       "    visibility: 0.9997832\n",
       "  }\n",
       "  landmark {\n",
       "    x: 0.5605044\n",
       "    y: 0.34188893\n",
       "    z: -0.21103796\n",
       "    visibility: 0.9999187\n",
       "  }\n",
       "  landmark {\n",
       "    x: 0.6329125\n",
       "    y: 0.35750446\n",
       "    z: -0.5671288\n",
       "    visibility: 0.9997876\n",
       "  }\n",
       "  landmark {\n",
       "    x: 0.58885247\n",
       "    y: 0.35784644\n",
       "    z: -0.5401745\n",
       "    visibility: 0.99975735\n",
       "  }\n",
       "  landmark {\n",
       "    x: 0.76149833\n",
       "    y: 0.39956924\n",
       "    z: -0.29588762\n",
       "    visibility: 0.9993007\n",
       "  }\n",
       "  landmark {\n",
       "    x: 0.48529607\n",
       "    y: 0.4012645\n",
       "    z: -0.08554209\n",
       "    visibility: 0.9986708\n",
       "  }\n",
       "  landmark {\n",
       "    x: 0.8227145\n",
       "    y: 0.31306133\n",
       "    z: -0.5262436\n",
       "    visibility: 0.9947613\n",
       "  }\n",
       "  landmark {\n",
       "    x: 0.4088001\n",
       "    y: 0.30902022\n",
       "    z: -0.203811\n",
       "    visibility: 0.9937751\n",
       "  }\n",
       "  landmark {\n",
       "    x: 0.66530716\n",
       "    y: 0.25250205\n",
       "    z: -0.5350126\n",
       "    visibility: 0.9104155\n",
       "  }\n",
       "  landmark {\n",
       "    x: 0.5892349\n",
       "    y: 0.2530845\n",
       "    z: -0.21380989\n",
       "    visibility: 0.8973637\n",
       "  }\n",
       "  landmark {\n",
       "    x: 0.6391775\n",
       "    y: 0.23499519\n",
       "    z: -0.62122554\n",
       "    visibility: 0.7988076\n",
       "  }\n",
       "  landmark {\n",
       "    x: 0.6168846\n",
       "    y: 0.23588175\n",
       "    z: -0.3081901\n",
       "    visibility: 0.68635243\n",
       "  }\n",
       "  landmark {\n",
       "    x: 0.63211393\n",
       "    y: 0.23676893\n",
       "    z: -0.5841738\n",
       "    visibility: 0.77272475\n",
       "  }\n",
       "  landmark {\n",
       "    x: 0.6199191\n",
       "    y: 0.23945884\n",
       "    z: -0.24837746\n",
       "    visibility: 0.6510488\n",
       "  }\n",
       "  landmark {\n",
       "    x: 0.6365919\n",
       "    y: 0.24493627\n",
       "    z: -0.5319699\n",
       "    visibility: 0.77188945\n",
       "  }\n",
       "  landmark {\n",
       "    x: 0.61456585\n",
       "    y: 0.24811845\n",
       "    z: -0.20855895\n",
       "    visibility: 0.65272605\n",
       "  }\n",
       "  landmark {\n",
       "    x: 0.69390786\n",
       "    y: 0.60001814\n",
       "    z: -0.12005199\n",
       "    visibility: 0.9999869\n",
       "  }\n",
       "  landmark {\n",
       "    x: 0.51251674\n",
       "    y: 0.59444153\n",
       "    z: 0.12038969\n",
       "    visibility: 0.9999249\n",
       "  }\n",
       "  landmark {\n",
       "    x: 0.68561447\n",
       "    y: 0.74539363\n",
       "    z: -0.1326226\n",
       "    visibility: 0.96374\n",
       "  }\n",
       "  landmark {\n",
       "    x: 0.22819272\n",
       "    y: 0.67354894\n",
       "    z: -0.13536921\n",
       "    visibility: 0.9790019\n",
       "  }\n",
       "  landmark {\n",
       "    x: 0.64025944\n",
       "    y: 0.8639786\n",
       "    z: 0.3835384\n",
       "    visibility: 0.9733795\n",
       "  }\n",
       "  landmark {\n",
       "    x: 0.5336624\n",
       "    y: 0.6769776\n",
       "    z: 0.8414944\n",
       "    visibility: 0.71604675\n",
       "  }\n",
       "  landmark {\n",
       "    x: 0.6259535\n",
       "    y: 0.87457246\n",
       "    z: 0.42420155\n",
       "    visibility: 0.83994603\n",
       "  }\n",
       "  landmark {\n",
       "    x: 0.59735525\n",
       "    y: 0.66092765\n",
       "    z: 0.9415013\n",
       "    visibility: 0.7068111\n",
       "  }\n",
       "  landmark {\n",
       "    x: 0.5847581\n",
       "    y: 0.8999468\n",
       "    z: 0.052187864\n",
       "    visibility: 0.958727\n",
       "  }\n",
       "  landmark {\n",
       "    x: 0.57399005\n",
       "    y: 0.72012126\n",
       "    z: 0.8217948\n",
       "    visibility: 0.7035283\n",
       "  }]]"
      ]
     },
     "execution_count": 10,
     "metadata": {},
     "output_type": "execute_result"
    }
   ],
   "source": [
    "landmark_frames_data"
   ]
  },
  {
   "cell_type": "code",
   "execution_count": 6,
   "metadata": {},
   "outputs": [],
   "source": [
    "import pandas as pd\n",
    "import numpy as np\n",
    "column_list=['right_elbow_angle',\n",
    "'right_shoulder_angle',\n",
    "'left_shoulder_angle',\n",
    "'left_elbow_angle',\n",
    "'right_hip_angle',\n",
    "'left_hip_angle',\n",
    "'right_knee_angle',\n",
    "'left_knee_angle',\n",
    "'right_ankle_angle',\n",
    "'left_ankle_angle',\n",
    "'right_shoulder_wrt_nose_angle',\n",
    "'left_shoulder_wrt_nose_angle',\n",
    "'PoseName',\n",
    "'PoseAccurracy']\n"
   ]
  },
  {
   "cell_type": "code",
   "execution_count": 11,
   "metadata": {},
   "outputs": [],
   "source": [
    "def make_dict(data,pose_name):\n",
    "    test=[]\n",
    "    for res in data[0].landmark:\n",
    "        test.append(np.array([res.x,res.y,res.z,res.visibility]))\n",
    "    test1=[]\n",
    "    for res in test:\n",
    "        test1.append([res[0]*w,res[1]*h,res[2],res[3]])\n",
    "\n",
    "    right_elbow_angle=getAngle(test1[16],test1[14],test1[12])\n",
    "    right_shoulder_angle=getAngle(test1[14],test1[12],test1[24])\n",
    "    left_shoulder_angle=getAngle(test1[13],test1[11],test1[23])\n",
    "    left_elbow_angle=getAngle(test1[15],test1[13],test1[11])\n",
    "\n",
    "    right_hip_angle=getAngle(test1[12],test1[24],test1[26])\n",
    "    left_hip_angle=getAngle(test1[11],test1[23],test1[25])\n",
    "    right_knee_angle=getAngle(test1[24],test1[26],test1[28])\n",
    "    left_knee_angle=getAngle(test1[23],test1[25],test1[27])\n",
    "\n",
    "    right_ankle_angle=getAngle(test1[26],test1[28],test1[32])\n",
    "    left_ankle_angle=getAngle(test1[25],test1[27],test1[31])\n",
    "    right_shoulder_wrt_nose_angle=getAngle(test1[0],test1[12],test1[11])\n",
    "    left_shoulder_wrt_nose_angle=getAngle(test1[0],test1[11],test1[12])\n",
    "\n",
    "    angles={'right_elbow_angle':right_elbow_angle,\n",
    "    'right_shoulder_angle':right_shoulder_angle,\n",
    "    'left_shoulder_angle':left_shoulder_angle,\n",
    "    'left_elbow_angle':left_elbow_angle,\n",
    "    'right_hip_angle':right_hip_angle,\n",
    "    'left_hip_angle':left_hip_angle,\n",
    "    'right_knee_angle':right_knee_angle,\n",
    "    'left_knee_angle':left_knee_angle,\n",
    "    'right_ankle_angle':right_ankle_angle,\n",
    "    'left_ankle_angle':left_ankle_angle,\n",
    "    'right_shoulder_wrt_nose_angle':right_shoulder_wrt_nose_angle,\n",
    "    'left_shoulder_wrt_nose_angle':left_shoulder_wrt_nose_angle,\n",
    "    'PoseName':pose_name,\n",
    "    'PoseAccurracy':0}\n",
    "    return angles"
   ]
  },
  {
   "cell_type": "code",
   "execution_count": 12,
   "metadata": {},
   "outputs": [],
   "source": [
    "m=[]\n",
    "def get_angles(landmark_frames_data,pose_name):\n",
    "    for i in landmark_frames_data:\n",
    "        if i[0]!=None:\n",
    "            m.append(make_dict(i,pose_name))\n",
    "       "
   ]
  },
  {
   "cell_type": "code",
   "execution_count": 13,
   "metadata": {},
   "outputs": [],
   "source": [
    "get_angles(landmark_frames_data,'Tree')"
   ]
  },
  {
   "cell_type": "code",
   "execution_count": 14,
   "metadata": {},
   "outputs": [],
   "source": [
    "# data=pd.DataFrame(columns=column_list)\n"
   ]
  },
  {
   "cell_type": "code",
   "execution_count": 15,
   "metadata": {},
   "outputs": [
    {
     "ename": "NameError",
     "evalue": "name 'data' is not defined",
     "output_type": "error",
     "traceback": [
      "\u001b[1;31m---------------------------------------------------------------------------\u001b[0m",
      "\u001b[1;31mNameError\u001b[0m                                 Traceback (most recent call last)",
      "\u001b[1;32m<ipython-input-15-4a591eb2fea1>\u001b[0m in \u001b[0;36m<module>\u001b[1;34m\u001b[0m\n\u001b[1;32m----> 1\u001b[1;33m \u001b[0mdata\u001b[0m\u001b[1;33m=\u001b[0m\u001b[0mdata\u001b[0m\u001b[1;33m.\u001b[0m\u001b[0mappend\u001b[0m\u001b[1;33m(\u001b[0m\u001b[0mm\u001b[0m\u001b[1;33m,\u001b[0m\u001b[0mignore_index\u001b[0m\u001b[1;33m=\u001b[0m\u001b[1;32mTrue\u001b[0m\u001b[1;33m)\u001b[0m\u001b[1;33m\u001b[0m\u001b[1;33m\u001b[0m\u001b[0m\n\u001b[0m",
      "\u001b[1;31mNameError\u001b[0m: name 'data' is not defined"
     ]
    }
   ],
   "source": [
    "data=data.append(m,ignore_index=True)"
   ]
  },
  {
   "cell_type": "code",
   "execution_count": 225,
   "metadata": {},
   "outputs": [
    {
     "data": {
      "text/plain": [
       "[152.02010001389226,\n",
       " 204.04022363114063,\n",
       " 162.5992908923049,\n",
       " 205.90068050652118,\n",
       " 235.163783674991,\n",
       " 177.96154608711086,\n",
       " 32.58321344384117,\n",
       " 182.84257902790526,\n",
       " 248.56670902922355,\n",
       " 180.13175772451254,\n",
       " 53.636357246675466,\n",
       " 312.97552043913015,\n",
       " 'Tree',\n",
       " 100]"
      ]
     },
     "execution_count": 225,
     "metadata": {},
     "output_type": "execute_result"
    }
   ],
   "source": [
    "mylist"
   ]
  },
  {
   "cell_type": "code",
   "execution_count": 222,
   "metadata": {},
   "outputs": [],
   "source": [
    "mylist=list(data.mean())"
   ]
  },
  {
   "cell_type": "code",
   "execution_count": 223,
   "metadata": {},
   "outputs": [],
   "source": [
    "mylist.insert(-1,'Tree')"
   ]
  },
  {
   "cell_type": "code",
   "execution_count": 224,
   "metadata": {},
   "outputs": [],
   "source": [
    "mylist[-1]=100"
   ]
  },
  {
   "cell_type": "code",
   "execution_count": 221,
   "metadata": {},
   "outputs": [],
   "source": [
    "data['PoseAccurracy']=pd.to_numeric(data['PoseAccurracy'])"
   ]
  },
  {
   "cell_type": "code",
   "execution_count": 179,
   "metadata": {},
   "outputs": [],
   "source": [
    "# data.to_csv('triangle.csv')"
   ]
  },
  {
   "cell_type": "code",
   "execution_count": 226,
   "metadata": {},
   "outputs": [],
   "source": [
    "# data=pd.read_csv('triangle.csv')"
   ]
  },
  {
   "cell_type": "code",
   "execution_count": 143,
   "metadata": {},
   "outputs": [],
   "source": [
    "# tree=data"
   ]
  },
  {
   "cell_type": "code",
   "execution_count": 226,
   "metadata": {},
   "outputs": [],
   "source": [
    "tree.loc[0]=mylist"
   ]
  },
  {
   "cell_type": "code",
   "execution_count": 235,
   "metadata": {},
   "outputs": [],
   "source": [
    "tree=tree.round(0)"
   ]
  },
  {
   "cell_type": "code",
   "execution_count": 237,
   "metadata": {},
   "outputs": [
    {
     "data": {
      "text/html": [
       "<div>\n",
       "<style scoped>\n",
       "    .dataframe tbody tr th:only-of-type {\n",
       "        vertical-align: middle;\n",
       "    }\n",
       "\n",
       "    .dataframe tbody tr th {\n",
       "        vertical-align: top;\n",
       "    }\n",
       "\n",
       "    .dataframe thead th {\n",
       "        text-align: right;\n",
       "    }\n",
       "</style>\n",
       "<table border=\"1\" class=\"dataframe\">\n",
       "  <thead>\n",
       "    <tr style=\"text-align: right;\">\n",
       "      <th></th>\n",
       "      <th>right_elbow_angle</th>\n",
       "      <th>right_shoulder_angle</th>\n",
       "      <th>left_shoulder_angle</th>\n",
       "      <th>left_elbow_angle</th>\n",
       "      <th>right_hip_angle</th>\n",
       "      <th>left_hip_angle</th>\n",
       "      <th>right_knee_angle</th>\n",
       "      <th>left_knee_angle</th>\n",
       "      <th>right_ankle_angle</th>\n",
       "      <th>left_ankle_angle</th>\n",
       "      <th>right_shoulder_wrt_nose_angle</th>\n",
       "      <th>left_shoulder_wrt_nose_angle</th>\n",
       "      <th>PoseName</th>\n",
       "      <th>PoseAccurracy</th>\n",
       "    </tr>\n",
       "  </thead>\n",
       "  <tbody>\n",
       "    <tr>\n",
       "      <th>0</th>\n",
       "      <td>152.0</td>\n",
       "      <td>204.0</td>\n",
       "      <td>163.0</td>\n",
       "      <td>206.0</td>\n",
       "      <td>235.0</td>\n",
       "      <td>178.0</td>\n",
       "      <td>33.0</td>\n",
       "      <td>183.0</td>\n",
       "      <td>249.0</td>\n",
       "      <td>180.0</td>\n",
       "      <td>54.0</td>\n",
       "      <td>313.0</td>\n",
       "      <td>Tree</td>\n",
       "      <td>100.0</td>\n",
       "    </tr>\n",
       "    <tr>\n",
       "      <th>1</th>\n",
       "      <td>317.0</td>\n",
       "      <td>339.0</td>\n",
       "      <td>26.0</td>\n",
       "      <td>50.0</td>\n",
       "      <td>246.0</td>\n",
       "      <td>178.0</td>\n",
       "      <td>26.0</td>\n",
       "      <td>181.0</td>\n",
       "      <td>248.0</td>\n",
       "      <td>178.0</td>\n",
       "      <td>53.0</td>\n",
       "      <td>305.0</td>\n",
       "      <td>Tree</td>\n",
       "      <td>69.0</td>\n",
       "    </tr>\n",
       "    <tr>\n",
       "      <th>2</th>\n",
       "      <td>317.0</td>\n",
       "      <td>339.0</td>\n",
       "      <td>26.0</td>\n",
       "      <td>50.0</td>\n",
       "      <td>245.0</td>\n",
       "      <td>178.0</td>\n",
       "      <td>27.0</td>\n",
       "      <td>182.0</td>\n",
       "      <td>247.0</td>\n",
       "      <td>177.0</td>\n",
       "      <td>54.0</td>\n",
       "      <td>305.0</td>\n",
       "      <td>Tree</td>\n",
       "      <td>70.0</td>\n",
       "    </tr>\n",
       "    <tr>\n",
       "      <th>3</th>\n",
       "      <td>318.0</td>\n",
       "      <td>338.0</td>\n",
       "      <td>26.0</td>\n",
       "      <td>50.0</td>\n",
       "      <td>245.0</td>\n",
       "      <td>178.0</td>\n",
       "      <td>27.0</td>\n",
       "      <td>182.0</td>\n",
       "      <td>247.0</td>\n",
       "      <td>176.0</td>\n",
       "      <td>54.0</td>\n",
       "      <td>305.0</td>\n",
       "      <td>Tree</td>\n",
       "      <td>70.0</td>\n",
       "    </tr>\n",
       "    <tr>\n",
       "      <th>4</th>\n",
       "      <td>318.0</td>\n",
       "      <td>338.0</td>\n",
       "      <td>26.0</td>\n",
       "      <td>50.0</td>\n",
       "      <td>245.0</td>\n",
       "      <td>178.0</td>\n",
       "      <td>27.0</td>\n",
       "      <td>182.0</td>\n",
       "      <td>247.0</td>\n",
       "      <td>176.0</td>\n",
       "      <td>54.0</td>\n",
       "      <td>305.0</td>\n",
       "      <td>Tree</td>\n",
       "      <td>70.0</td>\n",
       "    </tr>\n",
       "    <tr>\n",
       "      <th>...</th>\n",
       "      <td>...</td>\n",
       "      <td>...</td>\n",
       "      <td>...</td>\n",
       "      <td>...</td>\n",
       "      <td>...</td>\n",
       "      <td>...</td>\n",
       "      <td>...</td>\n",
       "      <td>...</td>\n",
       "      <td>...</td>\n",
       "      <td>...</td>\n",
       "      <td>...</td>\n",
       "      <td>...</td>\n",
       "      <td>...</td>\n",
       "      <td>...</td>\n",
       "    </tr>\n",
       "    <tr>\n",
       "      <th>965</th>\n",
       "      <td>162.0</td>\n",
       "      <td>179.0</td>\n",
       "      <td>195.0</td>\n",
       "      <td>186.0</td>\n",
       "      <td>239.0</td>\n",
       "      <td>183.0</td>\n",
       "      <td>38.0</td>\n",
       "      <td>179.0</td>\n",
       "      <td>243.0</td>\n",
       "      <td>188.0</td>\n",
       "      <td>58.0</td>\n",
       "      <td>317.0</td>\n",
       "      <td>Tree</td>\n",
       "      <td>93.0</td>\n",
       "    </tr>\n",
       "    <tr>\n",
       "      <th>966</th>\n",
       "      <td>162.0</td>\n",
       "      <td>179.0</td>\n",
       "      <td>195.0</td>\n",
       "      <td>186.0</td>\n",
       "      <td>239.0</td>\n",
       "      <td>183.0</td>\n",
       "      <td>38.0</td>\n",
       "      <td>179.0</td>\n",
       "      <td>243.0</td>\n",
       "      <td>188.0</td>\n",
       "      <td>58.0</td>\n",
       "      <td>317.0</td>\n",
       "      <td>Tree</td>\n",
       "      <td>93.0</td>\n",
       "    </tr>\n",
       "    <tr>\n",
       "      <th>967</th>\n",
       "      <td>162.0</td>\n",
       "      <td>179.0</td>\n",
       "      <td>196.0</td>\n",
       "      <td>185.0</td>\n",
       "      <td>239.0</td>\n",
       "      <td>183.0</td>\n",
       "      <td>38.0</td>\n",
       "      <td>179.0</td>\n",
       "      <td>243.0</td>\n",
       "      <td>188.0</td>\n",
       "      <td>59.0</td>\n",
       "      <td>317.0</td>\n",
       "      <td>Tree</td>\n",
       "      <td>93.0</td>\n",
       "    </tr>\n",
       "    <tr>\n",
       "      <th>968</th>\n",
       "      <td>162.0</td>\n",
       "      <td>179.0</td>\n",
       "      <td>196.0</td>\n",
       "      <td>185.0</td>\n",
       "      <td>239.0</td>\n",
       "      <td>183.0</td>\n",
       "      <td>38.0</td>\n",
       "      <td>179.0</td>\n",
       "      <td>243.0</td>\n",
       "      <td>188.0</td>\n",
       "      <td>59.0</td>\n",
       "      <td>317.0</td>\n",
       "      <td>Tree</td>\n",
       "      <td>93.0</td>\n",
       "    </tr>\n",
       "    <tr>\n",
       "      <th>969</th>\n",
       "      <td>162.0</td>\n",
       "      <td>179.0</td>\n",
       "      <td>196.0</td>\n",
       "      <td>186.0</td>\n",
       "      <td>239.0</td>\n",
       "      <td>183.0</td>\n",
       "      <td>38.0</td>\n",
       "      <td>179.0</td>\n",
       "      <td>243.0</td>\n",
       "      <td>188.0</td>\n",
       "      <td>59.0</td>\n",
       "      <td>317.0</td>\n",
       "      <td>Tree</td>\n",
       "      <td>93.0</td>\n",
       "    </tr>\n",
       "  </tbody>\n",
       "</table>\n",
       "<p>970 rows × 14 columns</p>\n",
       "</div>"
      ],
      "text/plain": [
       "     right_elbow_angle  right_shoulder_angle  left_shoulder_angle  \\\n",
       "0                152.0                 204.0                163.0   \n",
       "1                317.0                 339.0                 26.0   \n",
       "2                317.0                 339.0                 26.0   \n",
       "3                318.0                 338.0                 26.0   \n",
       "4                318.0                 338.0                 26.0   \n",
       "..                 ...                   ...                  ...   \n",
       "965              162.0                 179.0                195.0   \n",
       "966              162.0                 179.0                195.0   \n",
       "967              162.0                 179.0                196.0   \n",
       "968              162.0                 179.0                196.0   \n",
       "969              162.0                 179.0                196.0   \n",
       "\n",
       "     left_elbow_angle  right_hip_angle  left_hip_angle  right_knee_angle  \\\n",
       "0               206.0            235.0           178.0              33.0   \n",
       "1                50.0            246.0           178.0              26.0   \n",
       "2                50.0            245.0           178.0              27.0   \n",
       "3                50.0            245.0           178.0              27.0   \n",
       "4                50.0            245.0           178.0              27.0   \n",
       "..                ...              ...             ...               ...   \n",
       "965             186.0            239.0           183.0              38.0   \n",
       "966             186.0            239.0           183.0              38.0   \n",
       "967             185.0            239.0           183.0              38.0   \n",
       "968             185.0            239.0           183.0              38.0   \n",
       "969             186.0            239.0           183.0              38.0   \n",
       "\n",
       "     left_knee_angle  right_ankle_angle  left_ankle_angle  \\\n",
       "0              183.0              249.0             180.0   \n",
       "1              181.0              248.0             178.0   \n",
       "2              182.0              247.0             177.0   \n",
       "3              182.0              247.0             176.0   \n",
       "4              182.0              247.0             176.0   \n",
       "..               ...                ...               ...   \n",
       "965            179.0              243.0             188.0   \n",
       "966            179.0              243.0             188.0   \n",
       "967            179.0              243.0             188.0   \n",
       "968            179.0              243.0             188.0   \n",
       "969            179.0              243.0             188.0   \n",
       "\n",
       "     right_shoulder_wrt_nose_angle  left_shoulder_wrt_nose_angle PoseName  \\\n",
       "0                             54.0                         313.0     Tree   \n",
       "1                             53.0                         305.0     Tree   \n",
       "2                             54.0                         305.0     Tree   \n",
       "3                             54.0                         305.0     Tree   \n",
       "4                             54.0                         305.0     Tree   \n",
       "..                             ...                           ...      ...   \n",
       "965                           58.0                         317.0     Tree   \n",
       "966                           58.0                         317.0     Tree   \n",
       "967                           59.0                         317.0     Tree   \n",
       "968                           59.0                         317.0     Tree   \n",
       "969                           59.0                         317.0     Tree   \n",
       "\n",
       "     PoseAccurracy  \n",
       "0            100.0  \n",
       "1             69.0  \n",
       "2             70.0  \n",
       "3             70.0  \n",
       "4             70.0  \n",
       "..             ...  \n",
       "965           93.0  \n",
       "966           93.0  \n",
       "967           93.0  \n",
       "968           93.0  \n",
       "969           93.0  \n",
       "\n",
       "[970 rows x 14 columns]"
      ]
     },
     "execution_count": 237,
     "metadata": {},
     "output_type": "execute_result"
    }
   ],
   "source": [
    "tree"
   ]
  },
  {
   "cell_type": "code",
   "execution_count": 229,
   "metadata": {},
   "outputs": [],
   "source": [
    "def get_error(ideal,practice):\n",
    "        temp=[(abs(ideal[i]-practice[i])/ideal[i]) for i in range(12)]\n",
    "       \n",
    "        return 100-(sum(temp)*100/12) "
   ]
  },
  {
   "cell_type": "code",
   "execution_count": 230,
   "metadata": {},
   "outputs": [],
   "source": [
    "for i in range(1,len(tree)):\n",
    "    tree.iloc[i,13]=get_error(list(tree.loc[0,:])[:-2],list(tree.loc[i,:])[:-2])\n",
    "    "
   ]
  },
  {
   "cell_type": "code",
   "execution_count": 233,
   "metadata": {},
   "outputs": [],
   "source": [
    "# tree['PoseAccurracy']=pd.to_numeric(tree['PoseAccurracy'])"
   ]
  },
  {
   "cell_type": "code",
   "execution_count": 238,
   "metadata": {},
   "outputs": [],
   "source": [
    "tree.to_csv('final_tree.csv')"
   ]
  },
  {
   "cell_type": "code",
   "execution_count": 162,
   "metadata": {},
   "outputs": [],
   "source": [
    "data=warriordata"
   ]
  },
  {
   "cell_type": "markdown",
   "metadata": {},
   "source": [
    "# Modelling"
   ]
  },
  {
   "cell_type": "code",
   "execution_count": 284,
   "metadata": {},
   "outputs": [],
   "source": [
    "import numpy as np\n",
    "from sklearn.linear_model import LinearRegression"
   ]
  },
  {
   "cell_type": "code",
   "execution_count": 285,
   "metadata": {},
   "outputs": [
    {
     "data": {
      "text/html": [
       "<div>\n",
       "<style scoped>\n",
       "    .dataframe tbody tr th:only-of-type {\n",
       "        vertical-align: middle;\n",
       "    }\n",
       "\n",
       "    .dataframe tbody tr th {\n",
       "        vertical-align: top;\n",
       "    }\n",
       "\n",
       "    .dataframe thead th {\n",
       "        text-align: right;\n",
       "    }\n",
       "</style>\n",
       "<table border=\"1\" class=\"dataframe\">\n",
       "  <thead>\n",
       "    <tr style=\"text-align: right;\">\n",
       "      <th></th>\n",
       "      <th>right_elbow_angle</th>\n",
       "      <th>right_shoulder_angle</th>\n",
       "      <th>left_shoulder_angle</th>\n",
       "      <th>left_elbow_angle</th>\n",
       "      <th>right_hip_angle</th>\n",
       "      <th>left_hip_angle</th>\n",
       "      <th>right_knee_angle</th>\n",
       "      <th>left_knee_angle</th>\n",
       "      <th>right_ankle_angle</th>\n",
       "      <th>left_ankle_angle</th>\n",
       "      <th>right_shoulder_wrt_nose_angle</th>\n",
       "      <th>left_shoulder_wrt_nose_angle</th>\n",
       "      <th>PoseName</th>\n",
       "      <th>PoseAccurracy</th>\n",
       "    </tr>\n",
       "  </thead>\n",
       "  <tbody>\n",
       "    <tr>\n",
       "      <th>0</th>\n",
       "      <td>152.0</td>\n",
       "      <td>204.0</td>\n",
       "      <td>163.0</td>\n",
       "      <td>206.0</td>\n",
       "      <td>235.0</td>\n",
       "      <td>178.0</td>\n",
       "      <td>33.0</td>\n",
       "      <td>183.0</td>\n",
       "      <td>249.0</td>\n",
       "      <td>180.0</td>\n",
       "      <td>54.0</td>\n",
       "      <td>313.0</td>\n",
       "      <td>Tree</td>\n",
       "      <td>100.000000</td>\n",
       "    </tr>\n",
       "    <tr>\n",
       "      <th>1</th>\n",
       "      <td>317.0</td>\n",
       "      <td>339.0</td>\n",
       "      <td>26.0</td>\n",
       "      <td>50.0</td>\n",
       "      <td>246.0</td>\n",
       "      <td>178.0</td>\n",
       "      <td>26.0</td>\n",
       "      <td>181.0</td>\n",
       "      <td>248.0</td>\n",
       "      <td>178.0</td>\n",
       "      <td>53.0</td>\n",
       "      <td>305.0</td>\n",
       "      <td>Tree</td>\n",
       "      <td>69.000000</td>\n",
       "    </tr>\n",
       "    <tr>\n",
       "      <th>2</th>\n",
       "      <td>317.0</td>\n",
       "      <td>339.0</td>\n",
       "      <td>26.0</td>\n",
       "      <td>50.0</td>\n",
       "      <td>245.0</td>\n",
       "      <td>178.0</td>\n",
       "      <td>27.0</td>\n",
       "      <td>182.0</td>\n",
       "      <td>247.0</td>\n",
       "      <td>177.0</td>\n",
       "      <td>54.0</td>\n",
       "      <td>305.0</td>\n",
       "      <td>Tree</td>\n",
       "      <td>70.000000</td>\n",
       "    </tr>\n",
       "    <tr>\n",
       "      <th>3</th>\n",
       "      <td>318.0</td>\n",
       "      <td>338.0</td>\n",
       "      <td>26.0</td>\n",
       "      <td>50.0</td>\n",
       "      <td>245.0</td>\n",
       "      <td>178.0</td>\n",
       "      <td>27.0</td>\n",
       "      <td>182.0</td>\n",
       "      <td>247.0</td>\n",
       "      <td>176.0</td>\n",
       "      <td>54.0</td>\n",
       "      <td>305.0</td>\n",
       "      <td>Tree</td>\n",
       "      <td>70.000000</td>\n",
       "    </tr>\n",
       "    <tr>\n",
       "      <th>4</th>\n",
       "      <td>318.0</td>\n",
       "      <td>338.0</td>\n",
       "      <td>26.0</td>\n",
       "      <td>50.0</td>\n",
       "      <td>245.0</td>\n",
       "      <td>178.0</td>\n",
       "      <td>27.0</td>\n",
       "      <td>182.0</td>\n",
       "      <td>247.0</td>\n",
       "      <td>176.0</td>\n",
       "      <td>54.0</td>\n",
       "      <td>305.0</td>\n",
       "      <td>Tree</td>\n",
       "      <td>70.000000</td>\n",
       "    </tr>\n",
       "    <tr>\n",
       "      <th>...</th>\n",
       "      <td>...</td>\n",
       "      <td>...</td>\n",
       "      <td>...</td>\n",
       "      <td>...</td>\n",
       "      <td>...</td>\n",
       "      <td>...</td>\n",
       "      <td>...</td>\n",
       "      <td>...</td>\n",
       "      <td>...</td>\n",
       "      <td>...</td>\n",
       "      <td>...</td>\n",
       "      <td>...</td>\n",
       "      <td>...</td>\n",
       "      <td>...</td>\n",
       "    </tr>\n",
       "    <tr>\n",
       "      <th>4032</th>\n",
       "      <td>174.0</td>\n",
       "      <td>258.0</td>\n",
       "      <td>99.0</td>\n",
       "      <td>177.0</td>\n",
       "      <td>244.0</td>\n",
       "      <td>127.0</td>\n",
       "      <td>123.0</td>\n",
       "      <td>180.0</td>\n",
       "      <td>242.0</td>\n",
       "      <td>201.0</td>\n",
       "      <td>67.0</td>\n",
       "      <td>326.0</td>\n",
       "      <td>Warrior2</td>\n",
       "      <td>96.460701</td>\n",
       "    </tr>\n",
       "    <tr>\n",
       "      <th>4033</th>\n",
       "      <td>175.0</td>\n",
       "      <td>258.0</td>\n",
       "      <td>99.0</td>\n",
       "      <td>178.0</td>\n",
       "      <td>244.0</td>\n",
       "      <td>127.0</td>\n",
       "      <td>123.0</td>\n",
       "      <td>180.0</td>\n",
       "      <td>242.0</td>\n",
       "      <td>201.0</td>\n",
       "      <td>67.0</td>\n",
       "      <td>326.0</td>\n",
       "      <td>Warrior2</td>\n",
       "      <td>96.553365</td>\n",
       "    </tr>\n",
       "    <tr>\n",
       "      <th>4034</th>\n",
       "      <td>175.0</td>\n",
       "      <td>258.0</td>\n",
       "      <td>99.0</td>\n",
       "      <td>178.0</td>\n",
       "      <td>244.0</td>\n",
       "      <td>127.0</td>\n",
       "      <td>123.0</td>\n",
       "      <td>180.0</td>\n",
       "      <td>242.0</td>\n",
       "      <td>201.0</td>\n",
       "      <td>67.0</td>\n",
       "      <td>326.0</td>\n",
       "      <td>Warrior2</td>\n",
       "      <td>96.553365</td>\n",
       "    </tr>\n",
       "    <tr>\n",
       "      <th>4035</th>\n",
       "      <td>175.0</td>\n",
       "      <td>258.0</td>\n",
       "      <td>99.0</td>\n",
       "      <td>178.0</td>\n",
       "      <td>244.0</td>\n",
       "      <td>127.0</td>\n",
       "      <td>123.0</td>\n",
       "      <td>180.0</td>\n",
       "      <td>242.0</td>\n",
       "      <td>201.0</td>\n",
       "      <td>67.0</td>\n",
       "      <td>326.0</td>\n",
       "      <td>Warrior2</td>\n",
       "      <td>96.553365</td>\n",
       "    </tr>\n",
       "    <tr>\n",
       "      <th>4036</th>\n",
       "      <td>175.0</td>\n",
       "      <td>258.0</td>\n",
       "      <td>99.0</td>\n",
       "      <td>178.0</td>\n",
       "      <td>244.0</td>\n",
       "      <td>127.0</td>\n",
       "      <td>123.0</td>\n",
       "      <td>180.0</td>\n",
       "      <td>242.0</td>\n",
       "      <td>201.0</td>\n",
       "      <td>67.0</td>\n",
       "      <td>326.0</td>\n",
       "      <td>Warrior2</td>\n",
       "      <td>96.553365</td>\n",
       "    </tr>\n",
       "  </tbody>\n",
       "</table>\n",
       "<p>4037 rows × 14 columns</p>\n",
       "</div>"
      ],
      "text/plain": [
       "      right_elbow_angle  right_shoulder_angle  left_shoulder_angle  \\\n",
       "0                 152.0                 204.0                163.0   \n",
       "1                 317.0                 339.0                 26.0   \n",
       "2                 317.0                 339.0                 26.0   \n",
       "3                 318.0                 338.0                 26.0   \n",
       "4                 318.0                 338.0                 26.0   \n",
       "...                 ...                   ...                  ...   \n",
       "4032              174.0                 258.0                 99.0   \n",
       "4033              175.0                 258.0                 99.0   \n",
       "4034              175.0                 258.0                 99.0   \n",
       "4035              175.0                 258.0                 99.0   \n",
       "4036              175.0                 258.0                 99.0   \n",
       "\n",
       "      left_elbow_angle  right_hip_angle  left_hip_angle  right_knee_angle  \\\n",
       "0                206.0            235.0           178.0              33.0   \n",
       "1                 50.0            246.0           178.0              26.0   \n",
       "2                 50.0            245.0           178.0              27.0   \n",
       "3                 50.0            245.0           178.0              27.0   \n",
       "4                 50.0            245.0           178.0              27.0   \n",
       "...                ...              ...             ...               ...   \n",
       "4032             177.0            244.0           127.0             123.0   \n",
       "4033             178.0            244.0           127.0             123.0   \n",
       "4034             178.0            244.0           127.0             123.0   \n",
       "4035             178.0            244.0           127.0             123.0   \n",
       "4036             178.0            244.0           127.0             123.0   \n",
       "\n",
       "      left_knee_angle  right_ankle_angle  left_ankle_angle  \\\n",
       "0               183.0              249.0             180.0   \n",
       "1               181.0              248.0             178.0   \n",
       "2               182.0              247.0             177.0   \n",
       "3               182.0              247.0             176.0   \n",
       "4               182.0              247.0             176.0   \n",
       "...               ...                ...               ...   \n",
       "4032            180.0              242.0             201.0   \n",
       "4033            180.0              242.0             201.0   \n",
       "4034            180.0              242.0             201.0   \n",
       "4035            180.0              242.0             201.0   \n",
       "4036            180.0              242.0             201.0   \n",
       "\n",
       "      right_shoulder_wrt_nose_angle  left_shoulder_wrt_nose_angle  PoseName  \\\n",
       "0                              54.0                         313.0      Tree   \n",
       "1                              53.0                         305.0      Tree   \n",
       "2                              54.0                         305.0      Tree   \n",
       "3                              54.0                         305.0      Tree   \n",
       "4                              54.0                         305.0      Tree   \n",
       "...                             ...                           ...       ...   \n",
       "4032                           67.0                         326.0  Warrior2   \n",
       "4033                           67.0                         326.0  Warrior2   \n",
       "4034                           67.0                         326.0  Warrior2   \n",
       "4035                           67.0                         326.0  Warrior2   \n",
       "4036                           67.0                         326.0  Warrior2   \n",
       "\n",
       "      PoseAccurracy  \n",
       "0        100.000000  \n",
       "1         69.000000  \n",
       "2         70.000000  \n",
       "3         70.000000  \n",
       "4         70.000000  \n",
       "...             ...  \n",
       "4032      96.460701  \n",
       "4033      96.553365  \n",
       "4034      96.553365  \n",
       "4035      96.553365  \n",
       "4036      96.553365  \n",
       "\n",
       "[4037 rows x 14 columns]"
      ]
     },
     "execution_count": 285,
     "metadata": {},
     "output_type": "execute_result"
    }
   ],
   "source": [
    "dataset"
   ]
  },
  {
   "cell_type": "code",
   "execution_count": 286,
   "metadata": {},
   "outputs": [],
   "source": [
    "data=pd.get_dummies(dataset)"
   ]
  },
  {
   "cell_type": "code",
   "execution_count": 287,
   "metadata": {},
   "outputs": [],
   "source": [
    "from sklearn.linear_model import LinearRegression\n",
    "from sklearn.model_selection import train_test_split"
   ]
  },
  {
   "cell_type": "code",
   "execution_count": 288,
   "metadata": {},
   "outputs": [],
   "source": [
    "X_multi = data.drop(\"PoseAccurracy\",axis=1)"
   ]
  },
  {
   "cell_type": "code",
   "execution_count": 289,
   "metadata": {},
   "outputs": [],
   "source": [
    "y_multi = data['PoseAccurracy']"
   ]
  },
  {
   "cell_type": "code",
   "execution_count": 290,
   "metadata": {},
   "outputs": [],
   "source": [
    "X_train,X_test,y_train,y_test = train_test_split(X_multi,y_multi,test_size=0.2)"
   ]
  },
  {
   "cell_type": "code",
   "execution_count": 291,
   "metadata": {},
   "outputs": [
    {
     "data": {
      "text/plain": [
       "[317.0,\n",
       " 339.0,\n",
       " 26.0,\n",
       " 50.0,\n",
       " 246.0,\n",
       " 178.0,\n",
       " 26.0,\n",
       " 181.0,\n",
       " 248.0,\n",
       " 178.0,\n",
       " 53.0,\n",
       " 305.0,\n",
       " 0.0,\n",
       " 1.0,\n",
       " 0.0]"
      ]
     },
     "execution_count": 291,
     "metadata": {},
     "output_type": "execute_result"
    }
   ],
   "source": [
    "\n",
    "list(X_multi.loc[1])"
   ]
  },
  {
   "cell_type": "code",
   "execution_count": 292,
   "metadata": {},
   "outputs": [],
   "source": [
    "lm3 = LinearRegression()"
   ]
  },
  {
   "cell_type": "code",
   "execution_count": 293,
   "metadata": {},
   "outputs": [
    {
     "data": {
      "text/plain": [
       "LinearRegression()"
      ]
     },
     "execution_count": 293,
     "metadata": {},
     "output_type": "execute_result"
    }
   ],
   "source": [
    "lm3.fit(X_train, y_train)"
   ]
  },
  {
   "cell_type": "code",
   "execution_count": 294,
   "metadata": {},
   "outputs": [],
   "source": [
    "y_predicted=lm3.predict(X_test)"
   ]
  },
  {
   "cell_type": "code",
   "execution_count": 295,
   "metadata": {},
   "outputs": [],
   "source": [
    "from sklearn.metrics import mean_absolute_error"
   ]
  },
  {
   "cell_type": "code",
   "execution_count": 296,
   "metadata": {},
   "outputs": [
    {
     "data": {
      "text/plain": [
       "2.9139466712654496"
      ]
     },
     "execution_count": 296,
     "metadata": {},
     "output_type": "execute_result"
    }
   ],
   "source": [
    "max(list(y_test-y_predicted))"
   ]
  },
  {
   "cell_type": "code",
   "execution_count": 297,
   "metadata": {},
   "outputs": [
    {
     "data": {
      "text/plain": [
       "0.5991074063931467"
      ]
     },
     "execution_count": 297,
     "metadata": {},
     "output_type": "execute_result"
    }
   ],
   "source": [
    "mean_absolute_error(y_test,y_predicted)"
   ]
  },
  {
   "cell_type": "code",
   "execution_count": 298,
   "metadata": {},
   "outputs": [],
   "source": [
    "from sklearn.metrics import r2_score"
   ]
  },
  {
   "cell_type": "code",
   "execution_count": 299,
   "metadata": {},
   "outputs": [
    {
     "data": {
      "text/plain": [
       "0.9834561600710441"
      ]
     },
     "execution_count": 299,
     "metadata": {},
     "output_type": "execute_result"
    }
   ],
   "source": [
    "r2_score(y_test,y_predicted)"
   ]
  },
  {
   "cell_type": "code",
   "execution_count": null,
   "metadata": {},
   "outputs": [],
   "source": []
  },
  {
   "cell_type": "markdown",
   "metadata": {},
   "source": [
    "# Adding data files and Forming Dataset\n"
   ]
  },
  {
   "cell_type": "code",
   "execution_count": 1,
   "metadata": {},
   "outputs": [],
   "source": [
    "import pandas as pd"
   ]
  },
  {
   "cell_type": "code",
   "execution_count": 2,
   "metadata": {},
   "outputs": [],
   "source": [
    "tree=pd.read_csv('final_tree.csv')\n",
    "mountain=pd.read_csv('final_mountain.csv')\n",
    "warrior2=pd.read_csv('final_warrior2.csv')"
   ]
  },
  {
   "cell_type": "code",
   "execution_count": 3,
   "metadata": {},
   "outputs": [],
   "source": [
    "tree.drop(\"Unnamed: 0\",axis=1,inplace=True)\n",
    "mountain.drop(\"Unnamed: 0\",axis=1,inplace=True)\n",
    "warrior2.drop(\"Unnamed: 0\",axis=1,inplace=True)"
   ]
  },
  {
   "cell_type": "code",
   "execution_count": 4,
   "metadata": {},
   "outputs": [],
   "source": [
    "dataset=tree.append([mountain,warrior2],ignore_index=True)"
   ]
  },
  {
   "cell_type": "code",
   "execution_count": 5,
   "metadata": {},
   "outputs": [],
   "source": [
    "dataset=dataset.round(0)"
   ]
  },
  {
   "cell_type": "code",
   "execution_count": 6,
   "metadata": {
    "scrolled": true
   },
   "outputs": [
    {
     "data": {
      "text/html": [
       "<div>\n",
       "<style scoped>\n",
       "    .dataframe tbody tr th:only-of-type {\n",
       "        vertical-align: middle;\n",
       "    }\n",
       "\n",
       "    .dataframe tbody tr th {\n",
       "        vertical-align: top;\n",
       "    }\n",
       "\n",
       "    .dataframe thead th {\n",
       "        text-align: right;\n",
       "    }\n",
       "</style>\n",
       "<table border=\"1\" class=\"dataframe\">\n",
       "  <thead>\n",
       "    <tr style=\"text-align: right;\">\n",
       "      <th></th>\n",
       "      <th>right_elbow_angle</th>\n",
       "      <th>right_shoulder_angle</th>\n",
       "      <th>left_shoulder_angle</th>\n",
       "      <th>left_elbow_angle</th>\n",
       "      <th>right_hip_angle</th>\n",
       "      <th>left_hip_angle</th>\n",
       "      <th>right_knee_angle</th>\n",
       "      <th>left_knee_angle</th>\n",
       "      <th>right_ankle_angle</th>\n",
       "      <th>left_ankle_angle</th>\n",
       "      <th>right_shoulder_wrt_nose_angle</th>\n",
       "      <th>left_shoulder_wrt_nose_angle</th>\n",
       "      <th>PoseName</th>\n",
       "      <th>PoseAccurracy</th>\n",
       "    </tr>\n",
       "  </thead>\n",
       "  <tbody>\n",
       "    <tr>\n",
       "      <th>0</th>\n",
       "      <td>152.0</td>\n",
       "      <td>204.0</td>\n",
       "      <td>163.0</td>\n",
       "      <td>206.0</td>\n",
       "      <td>235.0</td>\n",
       "      <td>178.0</td>\n",
       "      <td>33.0</td>\n",
       "      <td>183.0</td>\n",
       "      <td>249.0</td>\n",
       "      <td>180.0</td>\n",
       "      <td>54.0</td>\n",
       "      <td>313.0</td>\n",
       "      <td>Tree</td>\n",
       "      <td>100.0</td>\n",
       "    </tr>\n",
       "    <tr>\n",
       "      <th>1</th>\n",
       "      <td>317.0</td>\n",
       "      <td>339.0</td>\n",
       "      <td>26.0</td>\n",
       "      <td>50.0</td>\n",
       "      <td>246.0</td>\n",
       "      <td>178.0</td>\n",
       "      <td>26.0</td>\n",
       "      <td>181.0</td>\n",
       "      <td>248.0</td>\n",
       "      <td>178.0</td>\n",
       "      <td>53.0</td>\n",
       "      <td>305.0</td>\n",
       "      <td>Tree</td>\n",
       "      <td>69.0</td>\n",
       "    </tr>\n",
       "    <tr>\n",
       "      <th>2</th>\n",
       "      <td>317.0</td>\n",
       "      <td>339.0</td>\n",
       "      <td>26.0</td>\n",
       "      <td>50.0</td>\n",
       "      <td>245.0</td>\n",
       "      <td>178.0</td>\n",
       "      <td>27.0</td>\n",
       "      <td>182.0</td>\n",
       "      <td>247.0</td>\n",
       "      <td>177.0</td>\n",
       "      <td>54.0</td>\n",
       "      <td>305.0</td>\n",
       "      <td>Tree</td>\n",
       "      <td>70.0</td>\n",
       "    </tr>\n",
       "    <tr>\n",
       "      <th>3</th>\n",
       "      <td>318.0</td>\n",
       "      <td>338.0</td>\n",
       "      <td>26.0</td>\n",
       "      <td>50.0</td>\n",
       "      <td>245.0</td>\n",
       "      <td>178.0</td>\n",
       "      <td>27.0</td>\n",
       "      <td>182.0</td>\n",
       "      <td>247.0</td>\n",
       "      <td>176.0</td>\n",
       "      <td>54.0</td>\n",
       "      <td>305.0</td>\n",
       "      <td>Tree</td>\n",
       "      <td>70.0</td>\n",
       "    </tr>\n",
       "    <tr>\n",
       "      <th>4</th>\n",
       "      <td>318.0</td>\n",
       "      <td>338.0</td>\n",
       "      <td>26.0</td>\n",
       "      <td>50.0</td>\n",
       "      <td>245.0</td>\n",
       "      <td>178.0</td>\n",
       "      <td>27.0</td>\n",
       "      <td>182.0</td>\n",
       "      <td>247.0</td>\n",
       "      <td>176.0</td>\n",
       "      <td>54.0</td>\n",
       "      <td>305.0</td>\n",
       "      <td>Tree</td>\n",
       "      <td>70.0</td>\n",
       "    </tr>\n",
       "    <tr>\n",
       "      <th>...</th>\n",
       "      <td>...</td>\n",
       "      <td>...</td>\n",
       "      <td>...</td>\n",
       "      <td>...</td>\n",
       "      <td>...</td>\n",
       "      <td>...</td>\n",
       "      <td>...</td>\n",
       "      <td>...</td>\n",
       "      <td>...</td>\n",
       "      <td>...</td>\n",
       "      <td>...</td>\n",
       "      <td>...</td>\n",
       "      <td>...</td>\n",
       "      <td>...</td>\n",
       "    </tr>\n",
       "    <tr>\n",
       "      <th>4032</th>\n",
       "      <td>174.0</td>\n",
       "      <td>258.0</td>\n",
       "      <td>99.0</td>\n",
       "      <td>177.0</td>\n",
       "      <td>244.0</td>\n",
       "      <td>127.0</td>\n",
       "      <td>123.0</td>\n",
       "      <td>180.0</td>\n",
       "      <td>242.0</td>\n",
       "      <td>201.0</td>\n",
       "      <td>67.0</td>\n",
       "      <td>326.0</td>\n",
       "      <td>Warrior2</td>\n",
       "      <td>96.0</td>\n",
       "    </tr>\n",
       "    <tr>\n",
       "      <th>4033</th>\n",
       "      <td>175.0</td>\n",
       "      <td>258.0</td>\n",
       "      <td>99.0</td>\n",
       "      <td>178.0</td>\n",
       "      <td>244.0</td>\n",
       "      <td>127.0</td>\n",
       "      <td>123.0</td>\n",
       "      <td>180.0</td>\n",
       "      <td>242.0</td>\n",
       "      <td>201.0</td>\n",
       "      <td>67.0</td>\n",
       "      <td>326.0</td>\n",
       "      <td>Warrior2</td>\n",
       "      <td>97.0</td>\n",
       "    </tr>\n",
       "    <tr>\n",
       "      <th>4034</th>\n",
       "      <td>175.0</td>\n",
       "      <td>258.0</td>\n",
       "      <td>99.0</td>\n",
       "      <td>178.0</td>\n",
       "      <td>244.0</td>\n",
       "      <td>127.0</td>\n",
       "      <td>123.0</td>\n",
       "      <td>180.0</td>\n",
       "      <td>242.0</td>\n",
       "      <td>201.0</td>\n",
       "      <td>67.0</td>\n",
       "      <td>326.0</td>\n",
       "      <td>Warrior2</td>\n",
       "      <td>97.0</td>\n",
       "    </tr>\n",
       "    <tr>\n",
       "      <th>4035</th>\n",
       "      <td>175.0</td>\n",
       "      <td>258.0</td>\n",
       "      <td>99.0</td>\n",
       "      <td>178.0</td>\n",
       "      <td>244.0</td>\n",
       "      <td>127.0</td>\n",
       "      <td>123.0</td>\n",
       "      <td>180.0</td>\n",
       "      <td>242.0</td>\n",
       "      <td>201.0</td>\n",
       "      <td>67.0</td>\n",
       "      <td>326.0</td>\n",
       "      <td>Warrior2</td>\n",
       "      <td>97.0</td>\n",
       "    </tr>\n",
       "    <tr>\n",
       "      <th>4036</th>\n",
       "      <td>175.0</td>\n",
       "      <td>258.0</td>\n",
       "      <td>99.0</td>\n",
       "      <td>178.0</td>\n",
       "      <td>244.0</td>\n",
       "      <td>127.0</td>\n",
       "      <td>123.0</td>\n",
       "      <td>180.0</td>\n",
       "      <td>242.0</td>\n",
       "      <td>201.0</td>\n",
       "      <td>67.0</td>\n",
       "      <td>326.0</td>\n",
       "      <td>Warrior2</td>\n",
       "      <td>97.0</td>\n",
       "    </tr>\n",
       "  </tbody>\n",
       "</table>\n",
       "<p>4037 rows × 14 columns</p>\n",
       "</div>"
      ],
      "text/plain": [
       "      right_elbow_angle  right_shoulder_angle  left_shoulder_angle  \\\n",
       "0                 152.0                 204.0                163.0   \n",
       "1                 317.0                 339.0                 26.0   \n",
       "2                 317.0                 339.0                 26.0   \n",
       "3                 318.0                 338.0                 26.0   \n",
       "4                 318.0                 338.0                 26.0   \n",
       "...                 ...                   ...                  ...   \n",
       "4032              174.0                 258.0                 99.0   \n",
       "4033              175.0                 258.0                 99.0   \n",
       "4034              175.0                 258.0                 99.0   \n",
       "4035              175.0                 258.0                 99.0   \n",
       "4036              175.0                 258.0                 99.0   \n",
       "\n",
       "      left_elbow_angle  right_hip_angle  left_hip_angle  right_knee_angle  \\\n",
       "0                206.0            235.0           178.0              33.0   \n",
       "1                 50.0            246.0           178.0              26.0   \n",
       "2                 50.0            245.0           178.0              27.0   \n",
       "3                 50.0            245.0           178.0              27.0   \n",
       "4                 50.0            245.0           178.0              27.0   \n",
       "...                ...              ...             ...               ...   \n",
       "4032             177.0            244.0           127.0             123.0   \n",
       "4033             178.0            244.0           127.0             123.0   \n",
       "4034             178.0            244.0           127.0             123.0   \n",
       "4035             178.0            244.0           127.0             123.0   \n",
       "4036             178.0            244.0           127.0             123.0   \n",
       "\n",
       "      left_knee_angle  right_ankle_angle  left_ankle_angle  \\\n",
       "0               183.0              249.0             180.0   \n",
       "1               181.0              248.0             178.0   \n",
       "2               182.0              247.0             177.0   \n",
       "3               182.0              247.0             176.0   \n",
       "4               182.0              247.0             176.0   \n",
       "...               ...                ...               ...   \n",
       "4032            180.0              242.0             201.0   \n",
       "4033            180.0              242.0             201.0   \n",
       "4034            180.0              242.0             201.0   \n",
       "4035            180.0              242.0             201.0   \n",
       "4036            180.0              242.0             201.0   \n",
       "\n",
       "      right_shoulder_wrt_nose_angle  left_shoulder_wrt_nose_angle  PoseName  \\\n",
       "0                              54.0                         313.0      Tree   \n",
       "1                              53.0                         305.0      Tree   \n",
       "2                              54.0                         305.0      Tree   \n",
       "3                              54.0                         305.0      Tree   \n",
       "4                              54.0                         305.0      Tree   \n",
       "...                             ...                           ...       ...   \n",
       "4032                           67.0                         326.0  Warrior2   \n",
       "4033                           67.0                         326.0  Warrior2   \n",
       "4034                           67.0                         326.0  Warrior2   \n",
       "4035                           67.0                         326.0  Warrior2   \n",
       "4036                           67.0                         326.0  Warrior2   \n",
       "\n",
       "      PoseAccurracy  \n",
       "0             100.0  \n",
       "1              69.0  \n",
       "2              70.0  \n",
       "3              70.0  \n",
       "4              70.0  \n",
       "...             ...  \n",
       "4032           96.0  \n",
       "4033           97.0  \n",
       "4034           97.0  \n",
       "4035           97.0  \n",
       "4036           97.0  \n",
       "\n",
       "[4037 rows x 14 columns]"
      ]
     },
     "execution_count": 6,
     "metadata": {},
     "output_type": "execute_result"
    }
   ],
   "source": [
    "dataset"
   ]
  },
  {
   "cell_type": "markdown",
   "metadata": {},
   "source": [
    "# making of function to get the angles\n"
   ]
  },
  {
   "cell_type": "code",
   "execution_count": 21,
   "metadata": {},
   "outputs": [],
   "source": [
    "import math\n",
    "import numpy as np\n",
    " \n",
    "def getAngle(a, b, c):\n",
    "    ang = math.degrees(math.atan2(c[1]-b[1], c[0]-b[0]) - math.atan2(a[1]-b[1], a[0]-b[0]))\n",
    "    return round(ang + 360 if ang < 0 else ang)"
   ]
  },
  {
   "cell_type": "code",
   "execution_count": 22,
   "metadata": {},
   "outputs": [],
   "source": [
    "def feature_list(poseLandmarks,posename):\n",
    "    return [getAngle(poseLandmarks[16],poseLandmarks[14],poseLandmarks[12]),\n",
    "    getAngle(poseLandmarks[14],poseLandmarks[12],poseLandmarks[24]),\n",
    "    getAngle(poseLandmarks[13],poseLandmarks[11],poseLandmarks[23]),\n",
    "    getAngle(poseLandmarks[15],poseLandmarks[13],poseLandmarks[11]),\n",
    "    getAngle(poseLandmarks[12],poseLandmarks[24],poseLandmarks[26]),\n",
    "    getAngle(poseLandmarks[11],poseLandmarks[23],poseLandmarks[25]),\n",
    "    getAngle(poseLandmarks[24],poseLandmarks[26],poseLandmarks[28]),\n",
    "    getAngle(poseLandmarks[23],poseLandmarks[25],poseLandmarks[27]),\n",
    "    getAngle(poseLandmarks[26],poseLandmarks[28],poseLandmarks[32]),\n",
    "    getAngle(poseLandmarks[25],poseLandmarks[27],poseLandmarks[31]),\n",
    "    getAngle(poseLandmarks[0],poseLandmarks[12],poseLandmarks[11]),\n",
    "    getAngle(poseLandmarks[0],poseLandmarks[11],poseLandmarks[12]),\n",
    "    posename]"
   ]
  },
  {
   "cell_type": "code",
   "execution_count": 32,
   "metadata": {},
   "outputs": [],
   "source": [
    "import pyttsx3\n",
    "engine = pyttsx3.init()\n",
    "def call():\n",
    "    engine.say(\"Hello\")\n",
    "engine.runAndWait()\n",
    "call()"
   ]
  },
  {
   "cell_type": "code",
   "execution_count": 23,
   "metadata": {},
   "outputs": [],
   "source": [
    "lanmark_count=[]\n",
    "def check_points(lm_count):\n",
    "    global lanmark_count\n",
    "    lanmark_count.append(lm_count)\n",
    "    if len(lanmark_count)>100:\n",
    "        print('not visible')\n",
    "        call()\n",
    "        lanmark_count.clear()\n",
    "    else:\n",
    "        pass\n",
    "    \n",
    "    \n",
    "    "
   ]
  },
  {
   "cell_type": "code",
   "execution_count": 39,
   "metadata": {},
   "outputs": [
    {
     "name": "stdout",
     "output_type": "stream",
     "text": [
      "33\n",
      "[67.4421806]\n",
      "33\n",
      "[67.65945805]\n",
      "33\n",
      "[67.93338123]\n",
      "33\n",
      "[68.01409726]\n",
      "33\n",
      "[68.03456319]\n",
      "33\n",
      "[67.93880825]\n",
      "33\n",
      "[67.89690422]\n",
      "33\n",
      "[68.0662886]\n",
      "33\n",
      "[68.03272056]\n",
      "33\n",
      "[67.90943819]\n",
      "33\n",
      "[67.86979361]\n",
      "33\n",
      "[67.84248972]\n",
      "33\n",
      "[67.72311356]\n",
      "33\n",
      "[67.90439866]\n",
      "33\n",
      "[67.9163058]\n",
      "33\n",
      "[68.08058166]\n",
      "33\n",
      "[67.99407797]\n",
      "33\n",
      "[67.99671651]\n",
      "33\n",
      "[68.00216865]\n",
      "33\n",
      "[67.9956239]\n",
      "33\n",
      "[68.05165808]\n",
      "33\n",
      "[68.0962516]\n",
      "33\n",
      "[68.01170243]\n",
      "33\n",
      "[67.84434523]\n",
      "33\n",
      "[67.86432306]\n",
      "33\n",
      "[67.86432306]\n",
      "33\n",
      "[67.95115876]\n",
      "33\n",
      "[67.84764215]\n",
      "33\n",
      "[67.91946338]\n",
      "33\n",
      "[67.96434147]\n",
      "33\n",
      "[67.96770584]\n",
      "33\n",
      "[68.01693593]\n",
      "33\n",
      "[68.1955219]\n",
      "33\n",
      "[68.24907126]\n"
     ]
    },
    {
     "ename": "KeyboardInterrupt",
     "evalue": "",
     "output_type": "error",
     "traceback": [
      "\u001b[1;31m---------------------------------------------------------------------------\u001b[0m",
      "\u001b[1;31mKeyboardInterrupt\u001b[0m                         Traceback (most recent call last)",
      "\u001b[1;32m<timed exec>\u001b[0m in \u001b[0;36m<module>\u001b[1;34m\u001b[0m\n",
      "\u001b[1;32m~\\anaconda3\\lib\\site-packages\\mediapipe\\python\\solutions\\pose.py\u001b[0m in \u001b[0;36mprocess\u001b[1;34m(self, image)\u001b[0m\n\u001b[0;32m    207\u001b[0m     \"\"\"\n\u001b[0;32m    208\u001b[0m \u001b[1;33m\u001b[0m\u001b[0m\n\u001b[1;32m--> 209\u001b[1;33m     \u001b[0mresults\u001b[0m \u001b[1;33m=\u001b[0m \u001b[0msuper\u001b[0m\u001b[1;33m(\u001b[0m\u001b[1;33m)\u001b[0m\u001b[1;33m.\u001b[0m\u001b[0mprocess\u001b[0m\u001b[1;33m(\u001b[0m\u001b[0minput_data\u001b[0m\u001b[1;33m=\u001b[0m\u001b[1;33m{\u001b[0m\u001b[1;34m'image'\u001b[0m\u001b[1;33m:\u001b[0m \u001b[0mimage\u001b[0m\u001b[1;33m}\u001b[0m\u001b[1;33m)\u001b[0m\u001b[1;33m\u001b[0m\u001b[1;33m\u001b[0m\u001b[0m\n\u001b[0m\u001b[0;32m    210\u001b[0m     \u001b[1;32mif\u001b[0m \u001b[0mresults\u001b[0m\u001b[1;33m.\u001b[0m\u001b[0mpose_landmarks\u001b[0m\u001b[1;33m:\u001b[0m\u001b[1;33m\u001b[0m\u001b[1;33m\u001b[0m\u001b[0m\n\u001b[0;32m    211\u001b[0m       \u001b[1;32mfor\u001b[0m \u001b[0mlandmark\u001b[0m \u001b[1;32min\u001b[0m \u001b[0mresults\u001b[0m\u001b[1;33m.\u001b[0m\u001b[0mpose_landmarks\u001b[0m\u001b[1;33m.\u001b[0m\u001b[0mlandmark\u001b[0m\u001b[1;33m:\u001b[0m\u001b[1;33m\u001b[0m\u001b[1;33m\u001b[0m\u001b[0m\n",
      "\u001b[1;32m~\\anaconda3\\lib\\site-packages\\mediapipe\\python\\solution_base.py\u001b[0m in \u001b[0;36mprocess\u001b[1;34m(self, input_data)\u001b[0m\n\u001b[0;32m    316\u001b[0m             f'type is not supported yet.')\n\u001b[0;32m    317\u001b[0m \u001b[1;33m\u001b[0m\u001b[0m\n\u001b[1;32m--> 318\u001b[1;33m     \u001b[0mself\u001b[0m\u001b[1;33m.\u001b[0m\u001b[0m_graph\u001b[0m\u001b[1;33m.\u001b[0m\u001b[0mwait_until_idle\u001b[0m\u001b[1;33m(\u001b[0m\u001b[1;33m)\u001b[0m\u001b[1;33m\u001b[0m\u001b[1;33m\u001b[0m\u001b[0m\n\u001b[0m\u001b[0;32m    319\u001b[0m     \u001b[1;31m# Create a NamedTuple object where the field names are mapping to the graph\u001b[0m\u001b[1;33m\u001b[0m\u001b[1;33m\u001b[0m\u001b[1;33m\u001b[0m\u001b[0m\n\u001b[0;32m    320\u001b[0m     \u001b[1;31m# output stream names.\u001b[0m\u001b[1;33m\u001b[0m\u001b[1;33m\u001b[0m\u001b[1;33m\u001b[0m\u001b[0m\n",
      "\u001b[1;31mKeyboardInterrupt\u001b[0m: "
     ]
    }
   ],
   "source": [
    "%%time\n",
    "import cv2\n",
    "import mediapipe as mp\n",
    "import time\n",
    "mpDraw = mp.solutions.drawing_utils\n",
    "mpPose = mp.solutions.pose\n",
    "pose = mpPose.Pose()\n",
    "cap = cv2.VideoCapture(0)\n",
    "while True:\n",
    "    success, img = cap.read()\n",
    "    if success==True:\n",
    "        h,w,c=img.shape \n",
    "        imgRGB = cv2.cvtColor(img, cv2.COLOR_BGR2RGB)\n",
    "        results = pose.process(imgRGB)\n",
    "        \n",
    "        poseLandmarks=[]\n",
    "        if results.pose_landmarks:\n",
    "            for lm in results.pose_landmarks.landmark:            \n",
    "                poseLandmarks.append((int(lm.x*w),int(lm.y*h)))\n",
    "#         print(feature_list(poseLandmarks,'pose1'))\n",
    "        print(len(poseLandmarks))\n",
    "        if len(poseLandmarks)==0:\n",
    "            check_points(1)\n",
    "            continue\n",
    "        \n",
    "        d=feature_list(poseLandmarks,1)\n",
    "        print(load_model.predict(np.array(d).reshape(1, -1)))\n",
    "        \n",
    "    else:\n",
    "        break\n",
    "    if cv2.waitKey(1) & 0xFF == ord('q'):\n",
    "        break\n",
    "\n",
    "cap.release()\n",
    "cv2.destroyAllWindows()"
   ]
  },
  {
   "cell_type": "code",
   "execution_count": 41,
   "metadata": {},
   "outputs": [],
   "source": [
    "cap.release()\n",
    "cv2.destroyAllWindows()"
   ]
  },
  {
   "cell_type": "code",
   "execution_count": 16,
   "metadata": {},
   "outputs": [],
   "source": [
    "import pickle\n",
    "load_model=pickle.load(open('YogaGuru/YogaModel.pkl','rb'))"
   ]
  },
  {
   "cell_type": "markdown",
   "metadata": {},
   "source": [
    "# creating pickel file"
   ]
  },
  {
   "cell_type": "code",
   "execution_count": 7,
   "metadata": {},
   "outputs": [
    {
     "data": {
      "text/plain": [
       "array(['Tree', 'Mountain', 'Warrior2'], dtype=object)"
      ]
     },
     "execution_count": 7,
     "metadata": {},
     "output_type": "execute_result"
    }
   ],
   "source": [
    "#{Tree:1,Mountain:2,Warrior2:3}\n",
    "dataset['PoseName'].unique()"
   ]
  },
  {
   "cell_type": "code",
   "execution_count": 8,
   "metadata": {},
   "outputs": [],
   "source": [
    "dataset.replace('Tree',1,inplace=True)\n",
    "dataset.replace('Mountain',2,inplace=True)\n",
    "dataset.replace('Warrior2',3,inplace=True)"
   ]
  },
  {
   "cell_type": "code",
   "execution_count": 9,
   "metadata": {},
   "outputs": [
    {
     "data": {
      "text/html": [
       "<div>\n",
       "<style scoped>\n",
       "    .dataframe tbody tr th:only-of-type {\n",
       "        vertical-align: middle;\n",
       "    }\n",
       "\n",
       "    .dataframe tbody tr th {\n",
       "        vertical-align: top;\n",
       "    }\n",
       "\n",
       "    .dataframe thead th {\n",
       "        text-align: right;\n",
       "    }\n",
       "</style>\n",
       "<table border=\"1\" class=\"dataframe\">\n",
       "  <thead>\n",
       "    <tr style=\"text-align: right;\">\n",
       "      <th></th>\n",
       "      <th>right_elbow_angle</th>\n",
       "      <th>right_shoulder_angle</th>\n",
       "      <th>left_shoulder_angle</th>\n",
       "      <th>left_elbow_angle</th>\n",
       "      <th>right_hip_angle</th>\n",
       "      <th>left_hip_angle</th>\n",
       "      <th>right_knee_angle</th>\n",
       "      <th>left_knee_angle</th>\n",
       "      <th>right_ankle_angle</th>\n",
       "      <th>left_ankle_angle</th>\n",
       "      <th>right_shoulder_wrt_nose_angle</th>\n",
       "      <th>left_shoulder_wrt_nose_angle</th>\n",
       "      <th>PoseName</th>\n",
       "      <th>PoseAccurracy</th>\n",
       "    </tr>\n",
       "  </thead>\n",
       "  <tbody>\n",
       "    <tr>\n",
       "      <th>0</th>\n",
       "      <td>152.0</td>\n",
       "      <td>204.0</td>\n",
       "      <td>163.0</td>\n",
       "      <td>206.0</td>\n",
       "      <td>235.0</td>\n",
       "      <td>178.0</td>\n",
       "      <td>33.0</td>\n",
       "      <td>183.0</td>\n",
       "      <td>249.0</td>\n",
       "      <td>180.0</td>\n",
       "      <td>54.0</td>\n",
       "      <td>313.0</td>\n",
       "      <td>1</td>\n",
       "      <td>100.0</td>\n",
       "    </tr>\n",
       "    <tr>\n",
       "      <th>1</th>\n",
       "      <td>317.0</td>\n",
       "      <td>339.0</td>\n",
       "      <td>26.0</td>\n",
       "      <td>50.0</td>\n",
       "      <td>246.0</td>\n",
       "      <td>178.0</td>\n",
       "      <td>26.0</td>\n",
       "      <td>181.0</td>\n",
       "      <td>248.0</td>\n",
       "      <td>178.0</td>\n",
       "      <td>53.0</td>\n",
       "      <td>305.0</td>\n",
       "      <td>1</td>\n",
       "      <td>69.0</td>\n",
       "    </tr>\n",
       "    <tr>\n",
       "      <th>2</th>\n",
       "      <td>317.0</td>\n",
       "      <td>339.0</td>\n",
       "      <td>26.0</td>\n",
       "      <td>50.0</td>\n",
       "      <td>245.0</td>\n",
       "      <td>178.0</td>\n",
       "      <td>27.0</td>\n",
       "      <td>182.0</td>\n",
       "      <td>247.0</td>\n",
       "      <td>177.0</td>\n",
       "      <td>54.0</td>\n",
       "      <td>305.0</td>\n",
       "      <td>1</td>\n",
       "      <td>70.0</td>\n",
       "    </tr>\n",
       "    <tr>\n",
       "      <th>3</th>\n",
       "      <td>318.0</td>\n",
       "      <td>338.0</td>\n",
       "      <td>26.0</td>\n",
       "      <td>50.0</td>\n",
       "      <td>245.0</td>\n",
       "      <td>178.0</td>\n",
       "      <td>27.0</td>\n",
       "      <td>182.0</td>\n",
       "      <td>247.0</td>\n",
       "      <td>176.0</td>\n",
       "      <td>54.0</td>\n",
       "      <td>305.0</td>\n",
       "      <td>1</td>\n",
       "      <td>70.0</td>\n",
       "    </tr>\n",
       "    <tr>\n",
       "      <th>4</th>\n",
       "      <td>318.0</td>\n",
       "      <td>338.0</td>\n",
       "      <td>26.0</td>\n",
       "      <td>50.0</td>\n",
       "      <td>245.0</td>\n",
       "      <td>178.0</td>\n",
       "      <td>27.0</td>\n",
       "      <td>182.0</td>\n",
       "      <td>247.0</td>\n",
       "      <td>176.0</td>\n",
       "      <td>54.0</td>\n",
       "      <td>305.0</td>\n",
       "      <td>1</td>\n",
       "      <td>70.0</td>\n",
       "    </tr>\n",
       "    <tr>\n",
       "      <th>...</th>\n",
       "      <td>...</td>\n",
       "      <td>...</td>\n",
       "      <td>...</td>\n",
       "      <td>...</td>\n",
       "      <td>...</td>\n",
       "      <td>...</td>\n",
       "      <td>...</td>\n",
       "      <td>...</td>\n",
       "      <td>...</td>\n",
       "      <td>...</td>\n",
       "      <td>...</td>\n",
       "      <td>...</td>\n",
       "      <td>...</td>\n",
       "      <td>...</td>\n",
       "    </tr>\n",
       "    <tr>\n",
       "      <th>4032</th>\n",
       "      <td>174.0</td>\n",
       "      <td>258.0</td>\n",
       "      <td>99.0</td>\n",
       "      <td>177.0</td>\n",
       "      <td>244.0</td>\n",
       "      <td>127.0</td>\n",
       "      <td>123.0</td>\n",
       "      <td>180.0</td>\n",
       "      <td>242.0</td>\n",
       "      <td>201.0</td>\n",
       "      <td>67.0</td>\n",
       "      <td>326.0</td>\n",
       "      <td>3</td>\n",
       "      <td>96.0</td>\n",
       "    </tr>\n",
       "    <tr>\n",
       "      <th>4033</th>\n",
       "      <td>175.0</td>\n",
       "      <td>258.0</td>\n",
       "      <td>99.0</td>\n",
       "      <td>178.0</td>\n",
       "      <td>244.0</td>\n",
       "      <td>127.0</td>\n",
       "      <td>123.0</td>\n",
       "      <td>180.0</td>\n",
       "      <td>242.0</td>\n",
       "      <td>201.0</td>\n",
       "      <td>67.0</td>\n",
       "      <td>326.0</td>\n",
       "      <td>3</td>\n",
       "      <td>97.0</td>\n",
       "    </tr>\n",
       "    <tr>\n",
       "      <th>4034</th>\n",
       "      <td>175.0</td>\n",
       "      <td>258.0</td>\n",
       "      <td>99.0</td>\n",
       "      <td>178.0</td>\n",
       "      <td>244.0</td>\n",
       "      <td>127.0</td>\n",
       "      <td>123.0</td>\n",
       "      <td>180.0</td>\n",
       "      <td>242.0</td>\n",
       "      <td>201.0</td>\n",
       "      <td>67.0</td>\n",
       "      <td>326.0</td>\n",
       "      <td>3</td>\n",
       "      <td>97.0</td>\n",
       "    </tr>\n",
       "    <tr>\n",
       "      <th>4035</th>\n",
       "      <td>175.0</td>\n",
       "      <td>258.0</td>\n",
       "      <td>99.0</td>\n",
       "      <td>178.0</td>\n",
       "      <td>244.0</td>\n",
       "      <td>127.0</td>\n",
       "      <td>123.0</td>\n",
       "      <td>180.0</td>\n",
       "      <td>242.0</td>\n",
       "      <td>201.0</td>\n",
       "      <td>67.0</td>\n",
       "      <td>326.0</td>\n",
       "      <td>3</td>\n",
       "      <td>97.0</td>\n",
       "    </tr>\n",
       "    <tr>\n",
       "      <th>4036</th>\n",
       "      <td>175.0</td>\n",
       "      <td>258.0</td>\n",
       "      <td>99.0</td>\n",
       "      <td>178.0</td>\n",
       "      <td>244.0</td>\n",
       "      <td>127.0</td>\n",
       "      <td>123.0</td>\n",
       "      <td>180.0</td>\n",
       "      <td>242.0</td>\n",
       "      <td>201.0</td>\n",
       "      <td>67.0</td>\n",
       "      <td>326.0</td>\n",
       "      <td>3</td>\n",
       "      <td>97.0</td>\n",
       "    </tr>\n",
       "  </tbody>\n",
       "</table>\n",
       "<p>4037 rows × 14 columns</p>\n",
       "</div>"
      ],
      "text/plain": [
       "      right_elbow_angle  right_shoulder_angle  left_shoulder_angle  \\\n",
       "0                 152.0                 204.0                163.0   \n",
       "1                 317.0                 339.0                 26.0   \n",
       "2                 317.0                 339.0                 26.0   \n",
       "3                 318.0                 338.0                 26.0   \n",
       "4                 318.0                 338.0                 26.0   \n",
       "...                 ...                   ...                  ...   \n",
       "4032              174.0                 258.0                 99.0   \n",
       "4033              175.0                 258.0                 99.0   \n",
       "4034              175.0                 258.0                 99.0   \n",
       "4035              175.0                 258.0                 99.0   \n",
       "4036              175.0                 258.0                 99.0   \n",
       "\n",
       "      left_elbow_angle  right_hip_angle  left_hip_angle  right_knee_angle  \\\n",
       "0                206.0            235.0           178.0              33.0   \n",
       "1                 50.0            246.0           178.0              26.0   \n",
       "2                 50.0            245.0           178.0              27.0   \n",
       "3                 50.0            245.0           178.0              27.0   \n",
       "4                 50.0            245.0           178.0              27.0   \n",
       "...                ...              ...             ...               ...   \n",
       "4032             177.0            244.0           127.0             123.0   \n",
       "4033             178.0            244.0           127.0             123.0   \n",
       "4034             178.0            244.0           127.0             123.0   \n",
       "4035             178.0            244.0           127.0             123.0   \n",
       "4036             178.0            244.0           127.0             123.0   \n",
       "\n",
       "      left_knee_angle  right_ankle_angle  left_ankle_angle  \\\n",
       "0               183.0              249.0             180.0   \n",
       "1               181.0              248.0             178.0   \n",
       "2               182.0              247.0             177.0   \n",
       "3               182.0              247.0             176.0   \n",
       "4               182.0              247.0             176.0   \n",
       "...               ...                ...               ...   \n",
       "4032            180.0              242.0             201.0   \n",
       "4033            180.0              242.0             201.0   \n",
       "4034            180.0              242.0             201.0   \n",
       "4035            180.0              242.0             201.0   \n",
       "4036            180.0              242.0             201.0   \n",
       "\n",
       "      right_shoulder_wrt_nose_angle  left_shoulder_wrt_nose_angle  PoseName  \\\n",
       "0                              54.0                         313.0         1   \n",
       "1                              53.0                         305.0         1   \n",
       "2                              54.0                         305.0         1   \n",
       "3                              54.0                         305.0         1   \n",
       "4                              54.0                         305.0         1   \n",
       "...                             ...                           ...       ...   \n",
       "4032                           67.0                         326.0         3   \n",
       "4033                           67.0                         326.0         3   \n",
       "4034                           67.0                         326.0         3   \n",
       "4035                           67.0                         326.0         3   \n",
       "4036                           67.0                         326.0         3   \n",
       "\n",
       "      PoseAccurracy  \n",
       "0             100.0  \n",
       "1              69.0  \n",
       "2              70.0  \n",
       "3              70.0  \n",
       "4              70.0  \n",
       "...             ...  \n",
       "4032           96.0  \n",
       "4033           97.0  \n",
       "4034           97.0  \n",
       "4035           97.0  \n",
       "4036           97.0  \n",
       "\n",
       "[4037 rows x 14 columns]"
      ]
     },
     "execution_count": 9,
     "metadata": {},
     "output_type": "execute_result"
    }
   ],
   "source": [
    "dataset"
   ]
  },
  {
   "cell_type": "code",
   "execution_count": 10,
   "metadata": {},
   "outputs": [],
   "source": [
    "# dataset.to_csv('yogadata.csv')"
   ]
  },
  {
   "cell_type": "code",
   "execution_count": 78,
   "metadata": {},
   "outputs": [],
   "source": [
    "import numpy as np\n",
    "from sklearn.linear_model import LinearRegression\n",
    "from sklearn.model_selection import train_test_split\n",
    "from sklearn.metrics import mean_absolute_error,r2_score"
   ]
  },
  {
   "cell_type": "code",
   "execution_count": 79,
   "metadata": {},
   "outputs": [],
   "source": [
    "X_multi = dataset.drop(\"PoseAccurracy\",axis=1)\n",
    "y_multi = dataset['PoseAccurracy']"
   ]
  },
  {
   "cell_type": "code",
   "execution_count": 80,
   "metadata": {},
   "outputs": [],
   "source": [
    "X_train,X_test,y_train,y_test = train_test_split(X_multi,y_multi,test_size=0.2)"
   ]
  },
  {
   "cell_type": "code",
   "execution_count": 81,
   "metadata": {},
   "outputs": [],
   "source": [
    "model = LinearRegression()"
   ]
  },
  {
   "cell_type": "code",
   "execution_count": 82,
   "metadata": {},
   "outputs": [
    {
     "data": {
      "text/plain": [
       "LinearRegression()"
      ]
     },
     "execution_count": 82,
     "metadata": {},
     "output_type": "execute_result"
    }
   ],
   "source": [
    "model.fit(X_train, y_train)"
   ]
  },
  {
   "cell_type": "code",
   "execution_count": 83,
   "metadata": {},
   "outputs": [],
   "source": [
    "y_predicted=model.predict(X_test)"
   ]
  },
  {
   "cell_type": "code",
   "execution_count": 84,
   "metadata": {
    "scrolled": true
   },
   "outputs": [
    {
     "data": {
      "text/plain": [
       "0.6191865830181832"
      ]
     },
     "execution_count": 84,
     "metadata": {},
     "output_type": "execute_result"
    }
   ],
   "source": [
    "mean_absolute_error(y_test,y_predicted)"
   ]
  },
  {
   "cell_type": "code",
   "execution_count": 85,
   "metadata": {},
   "outputs": [
    {
     "data": {
      "text/plain": [
       "0.9787054120347481"
      ]
     },
     "execution_count": 85,
     "metadata": {},
     "output_type": "execute_result"
    }
   ],
   "source": [
    "r2_score(y_test,y_predicted)"
   ]
  },
  {
   "cell_type": "code",
   "execution_count": 86,
   "metadata": {},
   "outputs": [],
   "source": [
    "import pickle "
   ]
  },
  {
   "cell_type": "code",
   "execution_count": 87,
   "metadata": {},
   "outputs": [],
   "source": [
    "pickle.dump(model,open('YogaModel.pkl','wb'))"
   ]
  },
  {
   "cell_type": "code",
   "execution_count": 96,
   "metadata": {},
   "outputs": [
    {
     "data": {
      "text/plain": [
       "[155, 180, 188, 199, 238, 181, 28, 179, 243, 184, 47, 317, 1]"
      ]
     },
     "execution_count": 96,
     "metadata": {},
     "output_type": "execute_result"
    }
   ],
   "source": [
    "d"
   ]
  },
  {
   "cell_type": "code",
   "execution_count": 95,
   "metadata": {},
   "outputs": [
    {
     "data": {
      "text/plain": [
       "array([93.38079876])"
      ]
     },
     "execution_count": 95,
     "metadata": {},
     "output_type": "execute_result"
    }
   ],
   "source": [
    "model.predict(np.array(d).reshape(1, -1))"
   ]
  },
  {
   "cell_type": "code",
   "execution_count": null,
   "metadata": {},
   "outputs": [],
   "source": []
  }
 ],
 "metadata": {
  "kernelspec": {
   "display_name": "Python 3.10.5 64-bit",
   "language": "python",
   "name": "python3"
  },
  "language_info": {
   "codemirror_mode": {
    "name": "ipython",
    "version": 3
   },
   "file_extension": ".py",
   "mimetype": "text/x-python",
   "name": "python",
   "nbconvert_exporter": "python",
   "pygments_lexer": "ipython3",
   "version": "3.10.5 (tags/v3.10.5:f377153, Jun  6 2022, 16:14:13) [MSC v.1929 64 bit (AMD64)]"
  },
  "vscode": {
   "interpreter": {
    "hash": "2469a70536e4d2335a2ea8907942d0699c37342a371ac185bdb5b0aa6f073890"
   }
  }
 },
 "nbformat": 4,
 "nbformat_minor": 4
}
